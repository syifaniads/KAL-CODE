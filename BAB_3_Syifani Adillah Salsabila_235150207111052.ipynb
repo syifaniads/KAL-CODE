{
  "cells": [
    {
      "cell_type": "markdown",
      "metadata": {
        "id": "view-in-github",
        "colab_type": "text"
      },
      "source": [
        "<a href=\"https://colab.research.google.com/github/syifaniads/KAL-CODE/blob/main/Praktikum_3_Soal.ipynb\" target=\"_parent\"><img src=\"https://colab.research.google.com/assets/colab-badge.svg\" alt=\"Open In Colab\"/></a>"
      ]
    },
    {
      "cell_type": "markdown",
      "id": "32dc4ef2",
      "metadata": {
        "id": "32dc4ef2"
      },
      "source": [
        "# Praktikum Kecerdasan Artifisial Lanjut\n",
        "\n",
        "\n",
        "---\n",
        "## Bab 3. Representasi Data\n"
      ]
    },
    {
      "cell_type": "markdown",
      "id": "cbc11d53",
      "metadata": {
        "id": "cbc11d53"
      },
      "source": [
        "## Instalasi Library\n",
        "Jalankan kode berikut untuk memastikan library telah terinstal di Google Colab."
      ]
    },
    {
      "cell_type": "code",
      "execution_count": null,
      "id": "76746f2e",
      "metadata": {
        "id": "76746f2e"
      },
      "outputs": [],
      "source": []
    },
    {
      "cell_type": "markdown",
      "id": "0c75564a",
      "metadata": {
        "id": "0c75564a"
      },
      "source": [
        "## Memuat Dataset\n",
        "### Memuat Dataset Lokal\n",
        "Unggah file `kontak.csv` ke Google Colab menggunakan kode berikut:"
      ]
    },
    {
      "cell_type": "code",
      "execution_count": null,
      "id": "32db6a25",
      "metadata": {
        "id": "32db6a25"
      },
      "outputs": [],
      "source": []
    },
    {
      "cell_type": "markdown",
      "id": "f8dca067",
      "metadata": {
        "id": "f8dca067"
      },
      "source": [
        "### Memuat Dataset dari Internet\n",
        "Unduh dataset Iris menggunakan wget:"
      ]
    },
    {
      "cell_type": "code",
      "execution_count": null,
      "id": "78a08d82",
      "metadata": {
        "id": "78a08d82"
      },
      "outputs": [],
      "source": []
    },
    {
      "cell_type": "markdown",
      "id": "86bbc7ea",
      "metadata": {
        "id": "86bbc7ea"
      },
      "source": [
        "### Cek File\n",
        "Cek file yang telah diunduh atau diunggah menggunakan perintah berikut:"
      ]
    },
    {
      "cell_type": "code",
      "execution_count": null,
      "id": "c53a69a4",
      "metadata": {
        "id": "c53a69a4"
      },
      "outputs": [],
      "source": []
    },
    {
      "cell_type": "markdown",
      "id": "3f35c8ff",
      "metadata": {
        "id": "3f35c8ff"
      },
      "source": [
        "## Membaca Format CSV\n",
        "### Menggunakan List"
      ]
    },
    {
      "cell_type": "code",
      "execution_count": null,
      "id": "1b0cb459",
      "metadata": {
        "id": "1b0cb459"
      },
      "outputs": [],
      "source": []
    },
    {
      "cell_type": "markdown",
      "id": "59fce44c",
      "metadata": {
        "id": "59fce44c"
      },
      "source": [
        "### Menggunakan Dictionary"
      ]
    },
    {
      "cell_type": "code",
      "execution_count": null,
      "id": "25eedb36",
      "metadata": {
        "id": "25eedb36"
      },
      "outputs": [],
      "source": []
    },
    {
      "cell_type": "markdown",
      "id": "83218b3a",
      "metadata": {
        "id": "83218b3a"
      },
      "source": [
        "## Membaca CSV menggunakan Pandas"
      ]
    },
    {
      "cell_type": "code",
      "execution_count": null,
      "id": "45ea5e1f",
      "metadata": {
        "id": "45ea5e1f"
      },
      "outputs": [],
      "source": []
    },
    {
      "cell_type": "markdown",
      "id": "9cb8e690",
      "metadata": {
        "id": "9cb8e690"
      },
      "source": [
        "## Meringkas Kumpulan Data"
      ]
    },
    {
      "cell_type": "code",
      "execution_count": null,
      "id": "2d019925",
      "metadata": {
        "id": "2d019925"
      },
      "outputs": [],
      "source": []
    },
    {
      "cell_type": "markdown",
      "id": "538671de",
      "metadata": {
        "id": "538671de"
      },
      "source": [
        "## Visualisasi Kumpulan Data\n",
        "### Box Plot"
      ]
    },
    {
      "cell_type": "code",
      "execution_count": null,
      "id": "a55b18e2",
      "metadata": {
        "id": "a55b18e2"
      },
      "outputs": [],
      "source": []
    },
    {
      "cell_type": "markdown",
      "id": "7f490e64",
      "metadata": {
        "id": "7f490e64"
      },
      "source": [
        "### Histogram"
      ]
    },
    {
      "cell_type": "code",
      "execution_count": null,
      "id": "48afaa88",
      "metadata": {
        "id": "48afaa88"
      },
      "outputs": [],
      "source": []
    },
    {
      "cell_type": "markdown",
      "id": "24f7bb96",
      "metadata": {
        "id": "24f7bb96"
      },
      "source": [
        "### Scatter Plot Matrix"
      ]
    },
    {
      "cell_type": "code",
      "execution_count": null,
      "id": "f805ff84",
      "metadata": {
        "id": "f805ff84"
      },
      "outputs": [],
      "source": []
    },
    {
      "cell_type": "markdown",
      "id": "5e4e7ed5",
      "metadata": {
        "id": "5e4e7ed5"
      },
      "source": [
        "## Tugas\n",
        "1. Download Glass dataset dari https://archive.ics.uci.edu/dataset/42/glass+identification\n",
        "2. Masukkan data Glass ke dataframe menggunakan Pandas.\n",
        "3. Tampilkan 10 data pertama.\n",
        "4. Hitung rata-rata nilai per variabel untuk setiap data.\n",
        "5. Hitung rata-rata nilai per variabel dikelompokkan berdasarkan `Type`.\n",
        "6. Buatlah plot bertipe 'line' untuk masing-masing variabelnya menggunakan Pandas Plot."
      ]
    },
    {
      "cell_type": "code",
      "source": [],
      "metadata": {
        "id": "ZYyoqkOuqqhr"
      },
      "id": "ZYyoqkOuqqhr",
      "execution_count": null,
      "outputs": []
    }
  ],
  "metadata": {
    "colab": {
      "provenance": [],
      "include_colab_link": true
    },
    "language_info": {
      "name": "python"
    },
    "kernelspec": {
      "name": "python3",
      "display_name": "Python 3"
    }
  },
  "nbformat": 4,
  "nbformat_minor": 5
}
