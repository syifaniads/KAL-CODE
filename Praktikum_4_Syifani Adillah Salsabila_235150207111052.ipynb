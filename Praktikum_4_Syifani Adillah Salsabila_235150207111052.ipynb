{
  "nbformat": 4,
  "nbformat_minor": 0,
  "metadata": {
    "colab": {
      "provenance": [],
      "include_colab_link": true
    },
    "kernelspec": {
      "name": "python3",
      "display_name": "Python 3"
    }
  },
  "cells": [
    {
      "cell_type": "markdown",
      "metadata": {
        "id": "view-in-github",
        "colab_type": "text"
      },
      "source": [
        "<a href=\"https://colab.research.google.com/github/syifaniads/KAL-CODE/blob/main/Praktikum_4_Syifani%20Adillah%20Salsabila_235150207111052.ipynb\" target=\"_parent\"><img src=\"https://colab.research.google.com/assets/colab-badge.svg\" alt=\"Open In Colab\"/></a>"
      ]
    },
    {
      "cell_type": "markdown",
      "metadata": {
        "id": "4p35D_MajUhy"
      },
      "source": [
        "# Praktikum Kecerdasan Artifisial Lanjut\n",
        "\n",
        "\n",
        "---\n",
        "## Bab 4. Pemrosesan Awal Data\n",
        "\n",
        "\n"
      ]
    },
    {
      "cell_type": "markdown",
      "metadata": {
        "id": "Ay3Q_EtXsn77"
      },
      "source": [
        "\n",
        "\n",
        "### 1) Import Data"
      ]
    },
    {
      "cell_type": "markdown",
      "metadata": {
        "id": "l_iBG4pVjIZb"
      },
      "source": [
        "Unduh dataset yang akan digunakan pada praktikum kali ini. Anda dapat menggunakan aplikasi **wget** untuk mendowload dataset dan menyimpannya dalam Google Colab. Jalankan cell di bawah ini untuk mengunduh **dataset sebagai latihan awal**. Untuk **tugas** gunakan **dataset yang tertera di modul praktikum (ada perbedaan *dataset*)**."
      ]
    },
    {
      "cell_type": "code",
      "metadata": {
        "id": "2zlUIUTidO13",
        "outputId": "ea87b8c9-2af3-423d-d257-81830d333714",
        "colab": {
          "base_uri": "https://localhost:8080/"
        }
      },
      "source": [
        "! wget https://dataset-kal.s3.us-east-1.amazonaws.com/iris_missing.csv"
      ],
      "execution_count": 1,
      "outputs": [
        {
          "output_type": "stream",
          "name": "stdout",
          "text": [
            "--2025-03-13 07:11:23--  https://dataset-kal.s3.us-east-1.amazonaws.com/iris_missing.csv\n",
            "Resolving dataset-kal.s3.us-east-1.amazonaws.com (dataset-kal.s3.us-east-1.amazonaws.com)... 52.216.27.64, 16.15.200.190, 16.182.32.178, ...\n",
            "Connecting to dataset-kal.s3.us-east-1.amazonaws.com (dataset-kal.s3.us-east-1.amazonaws.com)|52.216.27.64|:443... connected.\n",
            "HTTP request sent, awaiting response... 200 OK\n",
            "Length: 4593 (4.5K) [text/csv]\n",
            "Saving to: ‘iris_missing.csv’\n",
            "\n",
            "\riris_missing.csv      0%[                    ]       0  --.-KB/s               \riris_missing.csv    100%[===================>]   4.49K  --.-KB/s    in 0s      \n",
            "\n",
            "2025-03-13 07:11:23 (131 MB/s) - ‘iris_missing.csv’ saved [4593/4593]\n",
            "\n"
          ]
        }
      ]
    },
    {
      "cell_type": "markdown",
      "metadata": {
        "id": "qS98ITZYj_EQ"
      },
      "source": [
        "Setelah dataset berhasil diunduh, langkah berikutnya adalah membaca dataset dengan memanfaatkan fungsi [readcsv](https://pandas.pydata.org/pandas-docs/stable/reference/api/pandas.read_csv.html) dari library pandas. Lakukan pembacaan berkas csv menggunakan fungsi **readcsv**. Jangan lupa untuk melakukan import library pandas terlebih dahulu"
      ]
    },
    {
      "cell_type": "code",
      "metadata": {
        "id": "5TtrzOrCe0do"
      },
      "source": [],
      "execution_count": null,
      "outputs": []
    },
    {
      "cell_type": "markdown",
      "metadata": {
        "id": "Fz2E1jyaseWv"
      },
      "source": [
        "Tampilkan beberapa baris dari dataset untuk mendapatkan informasi singkat mengenai isi data. Gunakan fungsi **head()** untuk menampilkan 5 data pertama."
      ]
    },
    {
      "cell_type": "code",
      "metadata": {
        "id": "3zIEJth2fB-d"
      },
      "source": [],
      "execution_count": null,
      "outputs": []
    },
    {
      "cell_type": "markdown",
      "metadata": {
        "id": "tPbKFyGVs3Xs"
      },
      "source": [
        "Berdasarkan informasi dari fungsi **head()**, data iris yang\n",
        "digunakan mempunyai 4 fitur sebagai berikut :\n",
        "\n",
        "\n",
        "1.   sepal length\n",
        "2.   sepal width\n",
        "3.   petal length\n",
        "4.   petal width"
      ]
    },
    {
      "cell_type": "markdown",
      "source": [
        "### 2) Cek Tipe Data dan Statistik Sederhana"
      ],
      "metadata": {
        "id": "P_e8hSwKcqXE"
      }
    },
    {
      "cell_type": "markdown",
      "source": [
        "Lakukan pengecekan dan pengubahan tipe data apabila tidak sesuai yang diharapkan"
      ],
      "metadata": {
        "id": "VuLEwznXb9gw"
      }
    },
    {
      "cell_type": "code",
      "source": [],
      "metadata": {
        "id": "dt5cAkylcBfi"
      },
      "execution_count": null,
      "outputs": []
    },
    {
      "cell_type": "markdown",
      "source": [
        "Coba panggil metode `describe()` dan `info()`. Jelaskan apa perbedaannya sebagai komentar."
      ],
      "metadata": {
        "id": "naPFROzmd9lQ"
      }
    },
    {
      "cell_type": "code",
      "source": [],
      "metadata": {
        "id": "iVPDiGFMd8Z3"
      },
      "execution_count": null,
      "outputs": []
    },
    {
      "cell_type": "code",
      "source": [
        "# penjelasan\n",
        "#\n",
        "#"
      ],
      "metadata": {
        "id": "5FIPrHQ8eHhH"
      },
      "execution_count": null,
      "outputs": []
    },
    {
      "cell_type": "markdown",
      "metadata": {
        "id": "GhKSY9e0t4gf"
      },
      "source": [
        "### 3) Missing value dan imputasi data\n",
        "\n",
        "\n",
        "\n",
        "\n",
        "Jika Anda perhatikan dengan seksama, data pada baris ke-3 (index 2) pada fitur sepal length memiliki nilai 0.0. Hal ini menandakan adanya missing value pada data. Jalankan cell di bawah ini untuk mendapatkan semua data yang mengandung missing value. Pencarian data yang mengandung missing value dilakukan dengan tahapan sebagai berikut:\n",
        "\n",
        "\n",
        "1.   Membuat filter untuk mencari data dengan sepal_length = 0, sepal_width = 0, petal_length = 0, petal_width =0\n",
        "2.   Mencari data yang memenuhi kondisi1 **atau** kondisi2 **atau** kondisi3 **atau** kondisi4 menggunakan property [loc](https://pandas.pydata.org/pandas-docs/stable/reference/api/pandas.DataFrame.loc.html) pada dataframe\n",
        "\n"
      ]
    },
    {
      "cell_type": "code",
      "metadata": {
        "id": "rP3gGlgrlb-I"
      },
      "source": [],
      "execution_count": null,
      "outputs": []
    },
    {
      "cell_type": "markdown",
      "metadata": {
        "id": "pQlIlPnMC047"
      },
      "source": [
        "Penanganan missing value pada Pandas akan lebih mudah apabila data yang hilang (bernilai 0.0) diganti dengan NaN (Not A Number). Gunakan properti **replace** pada dataframe untuk menggganti 0.0 menjadi NaN"
      ]
    },
    {
      "cell_type": "code",
      "metadata": {
        "id": "vMQqkH62CSoe"
      },
      "source": [],
      "execution_count": null,
      "outputs": []
    },
    {
      "cell_type": "markdown",
      "metadata": {
        "id": "-xQtglGOyCyD"
      },
      "source": [
        "Terdapat beberapa cara untuk mengatasi permasalahan missing value pada data. Salah satu cara yang sederhana adalah dengan mengganti nilai NaN pada suatu fitur dengan rata-rata nilai fitur tersebut pada data lain yang bernilai bukan Nan. Perhatikan bahwa Anda harus mengganti nilai NaN dengan rata-rata data lain yang memiliki kategori (species) yang sama.\n",
        "\n",
        "Fungsi-fungsi pada Pandas yang dapat Anda manfaatkan:\n",
        "\n",
        "\n",
        "1.   **transform** untuk mengaplikasikan fungsi tertentu pada dataframe, pada permasalahan ini fungsi yang digunakan adalah fungsi **mean**\n",
        "2.   **groupby** untuk mengelompokkan dataframe berdasarkan nilai kolom tertentu, pada permasalahan ini kolom yang digunakan adalah **species**\n",
        "3. **fillna** untuk mengganti nilai NaN dengan nilai yang telah ditentukan\n",
        "\n",
        "\n",
        "\n",
        "\n",
        "Buatlah fungsi bernama **imputasi** yang melakukan tahapan berikut:\n",
        "\n",
        "\n",
        "1.   Menghitung rata-rata masing-masing kolom berdasarkan kelasnya\n",
        "2.   Mengisi kolom yang berisi NaN dengan rata-rata kelas yang sesuai\n",
        "\n",
        "\n"
      ]
    },
    {
      "cell_type": "code",
      "metadata": {
        "id": "n-cR9J2EMOMh"
      },
      "source": [],
      "execution_count": null,
      "outputs": []
    },
    {
      "cell_type": "markdown",
      "metadata": {
        "id": "fd7tcpRYi8Wx"
      },
      "source": [
        "Buatlah sebuah dataframe baru bernama **data_imputasi** yang berisi dataset dengan nilai NaN yang sudah diganti dengan cara memanggil fungsi **imputasi**."
      ]
    },
    {
      "cell_type": "code",
      "metadata": {
        "id": "DQgmHM96S1Vd"
      },
      "source": [],
      "execution_count": null,
      "outputs": []
    },
    {
      "cell_type": "markdown",
      "metadata": {
        "id": "Wxccxn1Njczp"
      },
      "source": [
        "Cek apakah masih terdapat nilai NaN pada dataframe."
      ]
    },
    {
      "cell_type": "code",
      "metadata": {
        "id": "eQPaaaMP9sIA"
      },
      "source": [],
      "execution_count": null,
      "outputs": []
    },
    {
      "cell_type": "markdown",
      "source": [
        "### 4) Pencarian Outlier\n",
        "Lakukan plotting terhadap semua fitur pada dataset Iris. Hasil yang diharapkan seperti contoh berikut:\n",
        "![image.png](data:image/png;base64,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)"
      ],
      "metadata": {
        "id": "R1NRWMvpcJ5w"
      }
    },
    {
      "cell_type": "code",
      "source": [],
      "metadata": {
        "id": "nKDNDQePcJN_"
      },
      "execution_count": null,
      "outputs": []
    },
    {
      "cell_type": "markdown",
      "source": [
        "Coba cari *outlier* dengan kode Python"
      ],
      "metadata": {
        "id": "JHgLKsVZcdEZ"
      }
    },
    {
      "cell_type": "code",
      "source": [],
      "metadata": {
        "id": "Ng7Eov6WcceD"
      },
      "execution_count": null,
      "outputs": []
    },
    {
      "cell_type": "markdown",
      "metadata": {
        "id": "p9VL92u7jskP"
      },
      "source": [
        "### 5) Normalisasi MinMax\n",
        "Normalisasi bertujuan menyamakan rentang nilai pada setiap fitur. Beberapa metode pembelajaran mesin memiliki kinerja yang buruk apabila rentang nilai tiap variabel berbeda jauh.\n",
        "\n",
        "Sebelum melakukan normalisasi, cek terlebih dahulu rentang (nilai max - nilai min) pada masing masing fitur"
      ]
    },
    {
      "cell_type": "code",
      "metadata": {
        "id": "R9FXu_IQl8Ig"
      },
      "source": [],
      "execution_count": null,
      "outputs": []
    },
    {
      "cell_type": "code",
      "metadata": {
        "id": "snFnC2rxjmIa"
      },
      "source": [],
      "execution_count": null,
      "outputs": []
    },
    {
      "cell_type": "markdown",
      "metadata": {
        "id": "JpDTiUpElTRN"
      },
      "source": [
        "Terlihat bahwa masing-masing fitur memiliki rentang yang berbeda, meskipun tidak terlalu signifikan. Pada praktikum ini Anda akan mengimplementasikan normalisasi MinMax untuk menyamakan rentang setiap fitur menjadi satu (1). Persamaan dari fungsi normalisasi MinMax adalah sebagai berikut:\n",
        "\n",
        "$x'=\\frac{x-min(x)}{max(x)-min(x)}$\n",
        "\n",
        "dimana $x'$ merupakan nilai ternormalisasi, $x$ adalah nilai asal, $min(x)$ merupakan nilai minimum pada suatu fitur, dan $max(x)$ merupakan nilai maksimum pada suatu fitur.\n",
        "\n",
        "Implementasikan metode normalisasi MinMax pada fungsi bernama **minmax**.\n"
      ]
    },
    {
      "cell_type": "code",
      "metadata": {
        "id": "tQmEe-Qckfnb"
      },
      "source": [],
      "execution_count": null,
      "outputs": []
    },
    {
      "cell_type": "markdown",
      "metadata": {
        "id": "Lj32Smx6n8LU"
      },
      "source": [
        "Buatlah sebuah dataframe baru bernama **data_normal** yang berisi hasil dari metode minmax dengan input **data_imputasi**"
      ]
    },
    {
      "cell_type": "code",
      "metadata": {
        "id": "Ow1QWldFnvBu"
      },
      "source": [],
      "execution_count": null,
      "outputs": []
    },
    {
      "cell_type": "markdown",
      "metadata": {
        "id": "4OHT17WfoGou"
      },
      "source": [
        "Cek 5 baris pertama **data_normal**"
      ]
    },
    {
      "cell_type": "code",
      "metadata": {
        "id": "fbbNpN9enzYI"
      },
      "source": [],
      "execution_count": null,
      "outputs": []
    },
    {
      "cell_type": "markdown",
      "metadata": {
        "id": "HWU0cCGBoOLR"
      },
      "source": [
        "Tampilkan rentang masing-masing fitur menggunakan fungsi **cetak_rentang** yang telah dibuat"
      ]
    },
    {
      "cell_type": "code",
      "source": [],
      "metadata": {
        "id": "jeGFOEZZcj53"
      },
      "execution_count": null,
      "outputs": []
    },
    {
      "cell_type": "markdown",
      "source": [
        "### 6) Label Encoding"
      ],
      "metadata": {
        "id": "MxYZSH-OczUP"
      }
    },
    {
      "cell_type": "markdown",
      "source": [
        "Lakukan *label encoding* pada variabel target \"Species\", sehingga nantinya misalnya Iris setosa menjadi 0, versicolor menjadi 1, virginica menjadi 2"
      ],
      "metadata": {
        "id": "48rv8diHc10X"
      }
    },
    {
      "cell_type": "code",
      "source": [],
      "metadata": {
        "id": "8YES2O64dNdr"
      },
      "execution_count": null,
      "outputs": []
    },
    {
      "cell_type": "markdown",
      "source": [
        "Tampilkan hasil DataFrame pada 10 data pertama dan terakhir menggunakan `head()` dan `tail()`"
      ],
      "metadata": {
        "id": "ItlRy8j4dQOl"
      }
    },
    {
      "cell_type": "code",
      "metadata": {
        "id": "qQay3cQ5n1rk"
      },
      "source": [],
      "execution_count": null,
      "outputs": []
    },
    {
      "cell_type": "markdown",
      "metadata": {
        "id": "7br3-zmsp5Dx"
      },
      "source": [
        "## TUGAS\n",
        "1. Implementasikan metode normalisasi Z-score dengan cara membuat fungsi bernama **zscore**.\n",
        "2. Normalisasikan dataframe **data_imputasi** menggunakan fungsi **zscore**. Simpan hasilnya pada dataframe bernama **data_zscore**.\n",
        "3. Jelaskan perbedaan hasil normalisasi **MinMax** dan **ZScore**. Petunjuk : cek nilai rentang, rata-rata dan standar deviasi dari **data_zscore**.\n"
      ]
    },
    {
      "cell_type": "code",
      "metadata": {
        "id": "jQwH6j-0n4-w"
      },
      "source": [
        "def zscore(df_input):\n",
        "  #tuliskan jawaban nomor 1 di sini\n",
        "  return df_input"
      ],
      "execution_count": null,
      "outputs": []
    },
    {
      "cell_type": "code",
      "metadata": {
        "id": "CRXju1M1mTlJ"
      },
      "source": [
        "data_zscore = zscore(data_imputasi)"
      ],
      "execution_count": null,
      "outputs": []
    },
    {
      "cell_type": "code",
      "metadata": {
        "id": "vtsHB8VEmhqu"
      },
      "source": [
        "data_zscore.head()"
      ],
      "execution_count": null,
      "outputs": []
    },
    {
      "cell_type": "code",
      "metadata": {
        "id": "KCxEWCRCmr-h"
      },
      "source": [],
      "execution_count": null,
      "outputs": []
    },
    {
      "cell_type": "markdown",
      "metadata": {
        "id": "wIR0eFqQoob8"
      },
      "source": [
        "Tuliskan jawaban pertanyaan nomor 3 **di sini**"
      ]
    },
    {
      "cell_type": "code",
      "metadata": {
        "id": "hNLI-K6YnVvM"
      },
      "source": [],
      "execution_count": null,
      "outputs": []
    }
  ]
}