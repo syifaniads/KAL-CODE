{
  "cells": [
    {
      "cell_type": "markdown",
      "metadata": {
        "id": "view-in-github",
        "colab_type": "text"
      },
      "source": [
        "<a href=\"https://colab.research.google.com/github/syifaniads/KAL-CODE/blob/main/BAB_4_Syifani%20Adillah%20Salsabila_235150207111052.ipynb\" target=\"_parent\"><img src=\"https://colab.research.google.com/assets/colab-badge.svg\" alt=\"Open In Colab\"/></a>"
      ]
    },
    {
      "cell_type": "markdown",
      "metadata": {
        "id": "a2HNTkvuKcRF"
      },
      "source": [
        "# LAPORAN PRAKTIKUM KECERDASAN ARTIFISIAL LANJUT\n",
        "**Nama:**\n",
        "\n",
        "**NIM:**\n",
        "\n",
        "**Kelas:**\n",
        "\n",
        "---\n",
        "## Bab ... : ...\n"
      ]
    },
    {
      "cell_type": "markdown",
      "metadata": {
        "id": "RJ6C6TKWKcRH"
      },
      "source": [
        "### Soal 1\n",
        "**(tuliskan soal no 1)**"
      ]
    },
    {
      "cell_type": "code",
      "execution_count": null,
      "metadata": {
        "id": "DhSc0iQgKcRI"
      },
      "outputs": [],
      "source": [
        "# Jawaban no 1\n",
        "# syntax disini...\n"
      ]
    },
    {
      "cell_type": "markdown",
      "metadata": {
        "id": "j0mWWmBgKcRJ"
      },
      "source": [
        "#### Penjelasan\n",
        "\n",
        "Penjelasan disini..."
      ]
    },
    {
      "cell_type": "markdown",
      "metadata": {
        "id": "WfZwWMmfKcRK"
      },
      "source": [
        "### Soal 2\n",
        "\n",
        "**(tuliskan soal no 2)**"
      ]
    },
    {
      "cell_type": "code",
      "execution_count": null,
      "metadata": {
        "id": "bMJbn3yFKcRK"
      },
      "outputs": [],
      "source": [
        "# Jawaban Soal 2\n",
        "# syntax disini..."
      ]
    },
    {
      "cell_type": "markdown",
      "metadata": {
        "id": "Hbxx-zNQKcRK"
      },
      "source": [
        "#### Penjelasan\n",
        "\n",
        "Penjelasan disini..."
      ]
    },
    {
      "cell_type": "markdown",
      "metadata": {
        "id": "ZBM1qSbbKcRK"
      },
      "source": [
        "### Soal 3\n",
        "\n",
        "**(tuliskan soal no 3)**"
      ]
    },
    {
      "cell_type": "code",
      "execution_count": null,
      "metadata": {
        "id": "D3KJGLgKKcRL"
      },
      "outputs": [],
      "source": [
        "# Jawaban Soal 3\n",
        "# syntax disini..."
      ]
    },
    {
      "cell_type": "markdown",
      "metadata": {
        "id": "tlq0opTxKcRL"
      },
      "source": [
        "#### Penjelasan\n",
        "\n",
        "Penjelasan disini..."
      ]
    },
    {
      "cell_type": "markdown",
      "metadata": {
        "id": "UMMA0Hc8KcRL"
      },
      "source": [
        "### Soal x (silahkan salin untuk soal selanjutnya)\n",
        "\n",
        "**(tuliskan soal no x)**"
      ]
    },
    {
      "cell_type": "code",
      "execution_count": null,
      "metadata": {
        "id": "FYa1lXStKcRL"
      },
      "outputs": [],
      "source": [
        "# Jawaban Soal x\n",
        "# syntax disini..."
      ]
    },
    {
      "cell_type": "markdown",
      "metadata": {
        "id": "H8vPTtRdKcRL"
      },
      "source": [
        "#### Penjelasan\n",
        "\n",
        "Penjelasan disini..."
      ]
    }
  ],
  "metadata": {
    "kernelspec": {
      "display_name": "Python 3",
      "language": "python",
      "name": "python3"
    },
    "language_info": {
      "codemirror_mode": {
        "name": "ipython",
        "version": 3
      },
      "file_extension": ".py",
      "mimetype": "text/x-python",
      "name": "python",
      "nbconvert_exporter": "python",
      "pygments_lexer": "ipython3",
      "version": "3.8.10"
    },
    "colab": {
      "provenance": [],
      "include_colab_link": true
    }
  },
  "nbformat": 4,
  "nbformat_minor": 0
}