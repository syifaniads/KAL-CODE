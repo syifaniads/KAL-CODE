{
  "cells": [
    {
      "cell_type": "markdown",
      "metadata": {
        "id": "view-in-github",
        "colab_type": "text"
      },
      "source": [
        "<a href=\"https://colab.research.google.com/github/syifaniads/KAL-CODE/blob/main/LIVE_4_NAMA_NIM.ipynb\" target=\"_parent\"><img src=\"https://colab.research.google.com/assets/colab-badge.svg\" alt=\"Open In Colab\"/></a>"
      ]
    },
    {
      "cell_type": "markdown",
      "metadata": {
        "id": "gttwc93RYZEA"
      },
      "source": [
        "# **Live Coding BAB 4 Pemrosesan Awal**"
      ]
    },
    {
      "cell_type": "markdown",
      "metadata": {
        "id": "GlEoj3ydYZEB"
      },
      "source": [
        "- Nama    :\n",
        "- NIM     :\n",
        "- Kelas   :"
      ]
    },
    {
      "cell_type": "markdown",
      "metadata": {
        "id": "YL5OokGEYZEC"
      },
      "source": [
        "## **1. Import Library**"
      ]
    },
    {
      "cell_type": "markdown",
      "metadata": {
        "id": "5mRcsRxUYZEC"
      },
      "source": [
        "**Import library standar yang diperlukan, seperti pandas, numpy, dan sebagainya**"
      ]
    },
    {
      "cell_type": "code",
      "execution_count": null,
      "metadata": {
        "vscode": {
          "languageId": "plaintext"
        },
        "id": "DHVzk8vHYZEC"
      },
      "outputs": [],
      "source": []
    },
    {
      "cell_type": "markdown",
      "metadata": {
        "id": "N5H6cfdzYZEC"
      },
      "source": [
        "## **2. Load Dataset**"
      ]
    },
    {
      "cell_type": "markdown",
      "metadata": {
        "id": "W5eRVuyXYZEC"
      },
      "source": [
        "**a. Load dataset yang sudah diberikan, dibebaskan menggunakan metode apapun untuk loading dataset. Lalu jadikan dataframe.**"
      ]
    },
    {
      "cell_type": "code",
      "execution_count": null,
      "metadata": {
        "vscode": {
          "languageId": "plaintext"
        },
        "id": "KpZ4xnK-YZED"
      },
      "outputs": [],
      "source": []
    },
    {
      "cell_type": "markdown",
      "source": [
        "**Tentang Dataset**\n",
        "\n",
        "The dataset is Spaceship Titanic, a dataset for classification/prediction of whether a passenger was rescued (Transported=True) or not (Transported=False). This dataset is inspired by the Titanic concept but set in outer space. It consists of several columns/features:\n",
        "\n",
        "*   PassengerId - A unique Id for each passenger. Each Id takes the form gggg_pp where gggg indicates a group the passenger is travelling with and pp is their number within the group. People in a group are often family members, but not always.\n",
        "*   HomePlanet - The planet the passenger departed from, typically their planet of permanent residence.\n",
        "*   CryoSleep - Indicates whether the passenger elected to be put into suspended animation for the duration of the voyage. Passengers in cryosleep are confined to their cabins.\n",
        "*   Cabin - The cabin number where the passenger is staying. Takes the form deck/num/side, where side can be either P for Port or S for Starboard.\n",
        "*   Destination - The planet the passenger will be debarking to.\n",
        "*   Age - The age of the passenger.\n",
        "*   VIP - Whether the passenger has paid for special VIP service during the voyage.\n",
        "*   RoomService, FoodCourt, ShoppingMall, Spa, VRDeck - Amount the passenger has billed at each of the Spaceship Titanic's many luxury amenities.\n",
        "*   Name - The first and last names of the passenger.\n",
        "*   Transported - Whether the passenger was transported to another dimension. This is the target, the column you are trying to predict."
      ],
      "metadata": {
        "id": "6eN51HUGqcZz"
      }
    },
    {
      "cell_type": "markdown",
      "metadata": {
        "id": "nhQ_LGxOYZED"
      },
      "source": [
        "**b. *Cetak* dataset**"
      ]
    },
    {
      "cell_type": "code",
      "execution_count": null,
      "metadata": {
        "vscode": {
          "languageId": "plaintext"
        },
        "id": "UuPPWQorYZED"
      },
      "outputs": [],
      "source": []
    },
    {
      "cell_type": "markdown",
      "source": [
        "**c. Hapus kolom PassengerId, Cabin, dan Name**"
      ],
      "metadata": {
        "id": "3S_s5OgpeUnj"
      }
    },
    {
      "cell_type": "code",
      "source": [],
      "metadata": {
        "id": "8-pRpmldesdj"
      },
      "execution_count": null,
      "outputs": []
    },
    {
      "cell_type": "markdown",
      "metadata": {
        "id": "EhJJ5xhyYZED"
      },
      "source": [
        "## **3. Cek Representasi Data**"
      ]
    },
    {
      "cell_type": "markdown",
      "metadata": {
        "id": "biukGivQYZED"
      },
      "source": [
        "**a. Cek tipe data**"
      ]
    },
    {
      "cell_type": "code",
      "execution_count": null,
      "metadata": {
        "vscode": {
          "languageId": "plaintext"
        },
        "id": "bu0-N_XNYZED"
      },
      "outputs": [],
      "source": []
    },
    {
      "cell_type": "code",
      "source": [],
      "metadata": {
        "id": "CqamsBIOZlOR"
      },
      "execution_count": null,
      "outputs": []
    },
    {
      "cell_type": "markdown",
      "source": [
        "***Pertanyaan***\n",
        "\n",
        "Berdasarkan hasil di atas, setiap fitur/kolom memiliki tipe data yang berbeda-beda. Fitur dapat dikelompokan menjadi 2 jenis, yaitu fitur numerikal dan kategorikal. Jelaskan secara singkat perbedaan antara kedua jenis fitur !\n",
        "\n",
        "Jawaban:\n",
        "..."
      ],
      "metadata": {
        "id": "tICg46umZ-pO"
      }
    },
    {
      "cell_type": "markdown",
      "metadata": {
        "id": "vigQoqigYZEE"
      },
      "source": [
        "**b. Ambil indeks fitur numerik dan kategorikal data**"
      ]
    },
    {
      "cell_type": "code",
      "execution_count": null,
      "metadata": {
        "vscode": {
          "languageId": "plaintext"
        },
        "id": "Z83d6enkYZEE"
      },
      "outputs": [],
      "source": [
        "fitur_numerik = ...\n",
        "fitur_kategorikal = ..."
      ]
    },
    {
      "cell_type": "markdown",
      "metadata": {
        "id": "Zc1De-xAYZEE"
      },
      "source": [
        "**c. Transformasi nilai 0 ke NaN untuk data numerik**"
      ]
    },
    {
      "cell_type": "code",
      "execution_count": null,
      "metadata": {
        "vscode": {
          "languageId": "plaintext"
        },
        "id": "ugisqHNNYZEE"
      },
      "outputs": [],
      "source": []
    },
    {
      "cell_type": "markdown",
      "metadata": {
        "id": "G289txTuYZEE"
      },
      "source": [
        "## **4. Missing Value dan Imputasi**"
      ]
    },
    {
      "cell_type": "markdown",
      "metadata": {
        "id": "LNkQnBpgYZEE"
      },
      "source": [
        "**a. Cek Missing Value**"
      ]
    },
    {
      "cell_type": "code",
      "execution_count": null,
      "metadata": {
        "vscode": {
          "languageId": "plaintext"
        },
        "id": "kJYR72-FYZEE"
      },
      "outputs": [],
      "source": []
    },
    {
      "cell_type": "markdown",
      "metadata": {
        "id": "2wQ1a_a0YZEE"
      },
      "source": [
        "**b. Imputasi Data**\n",
        "\n",
        "Lakukan imputasi data, dengan ketentuan untuk fitur numerik, data NaN diubah menggunakan fungsi **mean** serta untuk fitur kategorikal, data NaN diubah menggunakan fungsi **modus/mode**"
      ]
    },
    {
      "cell_type": "code",
      "execution_count": null,
      "metadata": {
        "vscode": {
          "languageId": "plaintext"
        },
        "id": "hxro1c7OYZEE"
      },
      "outputs": [],
      "source": [
        "def imputasi(df_input):\n",
        "    class_column = df_input.columns[-1]\n",
        "\n",
        "    # Untuk kategorikal\n",
        "    ...\n",
        "\n",
        "    # Untuk numerik\n",
        "    ...\n",
        "\n",
        "    return df_input"
      ]
    },
    {
      "cell_type": "code",
      "source": [
        "# Apply imputasi\n",
        "..."
      ],
      "metadata": {
        "id": "ZWjrqFPKf_Dg"
      },
      "execution_count": null,
      "outputs": []
    },
    {
      "cell_type": "markdown",
      "metadata": {
        "id": "OYePDrvqYZEE"
      },
      "source": [
        "**c. Cek Missing Value Setelah Imputasi**"
      ]
    },
    {
      "cell_type": "code",
      "execution_count": null,
      "metadata": {
        "vscode": {
          "languageId": "plaintext"
        },
        "id": "_y2knwgqYZEE"
      },
      "outputs": [],
      "source": []
    },
    {
      "cell_type": "markdown",
      "metadata": {
        "id": "SptrngbZYZEE"
      },
      "source": [
        "## **5. Penanganan Outlier**\n",
        "\n",
        "**Penanganan outlier hanya dilakukan pada fitur Numerik.**"
      ]
    },
    {
      "cell_type": "markdown",
      "metadata": {
        "id": "YmBnOv_mYZEF"
      },
      "source": [
        "**a. Cek Outlier**\n",
        "\n",
        "Cek outlier dengan visualisasi boxplot."
      ]
    },
    {
      "cell_type": "code",
      "execution_count": null,
      "metadata": {
        "vscode": {
          "languageId": "plaintext"
        },
        "id": "vpLMq8iOYZEF"
      },
      "outputs": [],
      "source": []
    },
    {
      "cell_type": "markdown",
      "metadata": {
        "id": "0HzJnX1QYZEF"
      },
      "source": [
        "**b. Outlier Handling**\n",
        "\n",
        "Lakukan outlier handling dengan cara mengubah nilai outlier menjadi mean fitur/kolom. Suatu data dikatakan outlier jika nilainya berada di luar batas bawah (lower_bound) atau batas atas (upper_bound)."
      ]
    },
    {
      "cell_type": "code",
      "execution_count": null,
      "metadata": {
        "vscode": {
          "languageId": "plaintext"
        },
        "id": "_sjQm8U7YZEF"
      },
      "outputs": [],
      "source": [
        "def handle_outliers(df):\n",
        "    for column in numerical_features:\n",
        "        Q1 = df[column].quantile(0.25)\n",
        "        Q3 = df[column].quantile(0.75)\n",
        "        IQR = Q3 - Q1\n",
        "        lower_bound = ...   # Batas bawah, gunakan rumus di modul\n",
        "        upper_bound = ...   # Batas atas, gunakan rumus di modul\n",
        "\n",
        "        # Ganti nilai outlier dengan mean dari kolom\n",
        "        mean_value = ...\n",
        "        df[column] = ... # Gunakan properti np.where\n",
        "\n",
        "    return df"
      ]
    },
    {
      "cell_type": "markdown",
      "metadata": {
        "id": "V031DFLjYZEF"
      },
      "source": [
        "**c. Cek Hasil penanganan**\n",
        "\n",
        "Cek hasil penanganan outlier dengan membandingkan boxplot data yang telah diatasi dengan boxplot sebelumnya"
      ]
    },
    {
      "cell_type": "code",
      "execution_count": null,
      "metadata": {
        "vscode": {
          "languageId": "plaintext"
        },
        "id": "vSJ6LI-uYZEF"
      },
      "outputs": [],
      "source": []
    },
    {
      "cell_type": "markdown",
      "metadata": {
        "id": "Z-U4FHTyYZEF"
      },
      "source": [
        "## **6. Normalisasi Data**\n",
        "\n",
        "**Lakukan normalisasi data fitur numerik**"
      ]
    },
    {
      "cell_type": "markdown",
      "metadata": {
        "id": "tSH2ktyIYZEF"
      },
      "source": [
        "**a. Cetak rentang masing-masing kolom**"
      ]
    },
    {
      "cell_type": "code",
      "execution_count": null,
      "metadata": {
        "vscode": {
          "languageId": "plaintext"
        },
        "id": "yd8ptjwdYZEF"
      },
      "outputs": [],
      "source": [
        "def cetak_rentang (df_input):\n",
        "    ..."
      ]
    },
    {
      "cell_type": "code",
      "source": [
        "# Apply cetak_rentang\n",
        "..."
      ],
      "metadata": {
        "id": "7_9LuugomEPz"
      },
      "execution_count": null,
      "outputs": []
    },
    {
      "cell_type": "markdown",
      "source": [
        "**b. Cek statistik sebelum normalisasi**"
      ],
      "metadata": {
        "id": "zqhnMPEYmRU5"
      }
    },
    {
      "cell_type": "markdown",
      "metadata": {
        "id": "HBGZ4eYlYZEF"
      },
      "source": [
        "**c. Normalisasi MinMax**\n",
        "\n",
        "Buat fungsi normalisasi dengan metode minmax"
      ]
    },
    {
      "cell_type": "code",
      "execution_count": null,
      "metadata": {
        "vscode": {
          "languageId": "plaintext"
        },
        "id": "GMOIpVlvYZEF"
      },
      "outputs": [],
      "source": []
    },
    {
      "cell_type": "code",
      "execution_count": null,
      "metadata": {
        "vscode": {
          "languageId": "plaintext"
        },
        "id": "SmWLAIvZYZEF"
      },
      "outputs": [],
      "source": [
        "# Apply fungsi normalisasi\n",
        "..."
      ]
    },
    {
      "cell_type": "markdown",
      "metadata": {
        "id": "mzkAVZMVYZEJ"
      },
      "source": [
        "***Pertanyaan***\n",
        "\n",
        "Cetak rentang dan statistik kolom setelah normalisasi, lalu bandingkan dengan saat sebelum dilakukan normalisasi. Apa perbedaannya dan jelaskan secara singkat!"
      ]
    },
    {
      "cell_type": "code",
      "execution_count": null,
      "metadata": {
        "vscode": {
          "languageId": "plaintext"
        },
        "id": "omJClT10YZEJ"
      },
      "outputs": [],
      "source": []
    },
    {
      "cell_type": "markdown",
      "source": [
        "Jawaban: ..."
      ],
      "metadata": {
        "id": "hH_bkO6smw3c"
      }
    },
    {
      "cell_type": "markdown",
      "metadata": {
        "id": "_KgCSj0EYZEJ"
      },
      "source": [
        "## **7. Label Encoding**\n",
        "\n"
      ]
    },
    {
      "cell_type": "markdown",
      "source": [],
      "metadata": {
        "id": "hkYMA0nxs_2P"
      }
    },
    {
      "cell_type": "markdown",
      "source": [
        "**a. Lakukan label encoding untuk fitur/kolom kategorikal!**"
      ],
      "metadata": {
        "id": "MdceaXZXsQga"
      }
    },
    {
      "cell_type": "code",
      "execution_count": null,
      "metadata": {
        "vscode": {
          "languageId": "plaintext"
        },
        "id": "Q3sZtvKDYZEJ"
      },
      "outputs": [],
      "source": []
    },
    {
      "cell_type": "markdown",
      "source": [
        "**b. Ubah kolom target, yang awalnya boolean menjadi integer**"
      ],
      "metadata": {
        "id": "FJOkpdTJsRXN"
      }
    },
    {
      "cell_type": "code",
      "source": [],
      "metadata": {
        "id": "pBakyYuYs5Es"
      },
      "execution_count": null,
      "outputs": []
    },
    {
      "cell_type": "markdown",
      "source": [
        "***Pertanyaan***\n",
        "\n",
        "Mengapa label encoding penting?\n",
        "\n",
        "Jawaban: ..."
      ],
      "metadata": {
        "id": "7LTc_82As5Zz"
      }
    },
    {
      "cell_type": "markdown",
      "metadata": {
        "id": "vqeQMI6lYZEJ"
      },
      "source": [
        "## **8. Cek Hasil Preprocessing**\n",
        "\n",
        "Cetak dataframe hasil preprocessing"
      ]
    },
    {
      "cell_type": "code",
      "execution_count": null,
      "metadata": {
        "vscode": {
          "languageId": "plaintext"
        },
        "id": "esTQcWNJYZEJ"
      },
      "outputs": [],
      "source": []
    },
    {
      "cell_type": "markdown",
      "source": [
        "***Pertanyaan***\n",
        "\n",
        "Menurutmu, hal apa lagi yang bisa dilakukan dalam pemrosesan awal data selain yang di atas, jika melihat karakteristik dataset?\n",
        "\n",
        "Jawaban: ..."
      ],
      "metadata": {
        "id": "IQUcmrK1pbcg"
      }
    }
  ],
  "metadata": {
    "language_info": {
      "name": "python"
    },
    "colab": {
      "provenance": [],
      "include_colab_link": true
    }
  },
  "nbformat": 4,
  "nbformat_minor": 0
}