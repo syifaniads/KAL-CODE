{
  "cells": [
    {
      "cell_type": "markdown",
      "metadata": {
        "id": "view-in-github",
        "colab_type": "text"
      },
      "source": [
        "<a href=\"https://colab.research.google.com/github/syifaniads/KAL-CODE/blob/main/LIVE_4_NAMA_NIM.ipynb\" target=\"_parent\"><img src=\"https://colab.research.google.com/assets/colab-badge.svg\" alt=\"Open In Colab\"/></a>"
      ]
    },
    {
      "cell_type": "markdown",
      "metadata": {
        "id": "gttwc93RYZEA"
      },
      "source": [
        "# **Live Coding BAB 4 Pemrosesan Awal**"
      ]
    },
    {
      "cell_type": "markdown",
      "metadata": {
        "id": "GlEoj3ydYZEB"
      },
      "source": [
        "- Nama    : SYIFANI ADILLAH SALSABILA\n",
        "- NIM     : 235150207111052\n",
        "- Kelas   : KAL TIF-E"
      ]
    },
    {
      "cell_type": "markdown",
      "metadata": {
        "id": "YL5OokGEYZEC"
      },
      "source": [
        "## **1. Import Library**"
      ]
    },
    {
      "cell_type": "markdown",
      "metadata": {
        "id": "5mRcsRxUYZEC"
      },
      "source": [
        "**Import library standar yang diperlukan, seperti pandas, numpy, dan sebagainya**"
      ]
    },
    {
      "cell_type": "code",
      "execution_count": 3,
      "metadata": {
        "vscode": {
          "languageId": "plaintext"
        },
        "id": "DHVzk8vHYZEC"
      },
      "outputs": [],
      "source": [
        "import numpy as np\n",
        "import pandas as pd\n",
        "import matplotlib\n",
        "import matplotlib.pyplot as plt\n",
        "import scipy\n",
        "import seaborn as sns\n",
        "from sklearn.preprocessing import LabelEncoder, MinMaxScaler"
      ]
    },
    {
      "cell_type": "markdown",
      "metadata": {
        "id": "N5H6cfdzYZEC"
      },
      "source": [
        "## **2. Load Dataset**"
      ]
    },
    {
      "cell_type": "markdown",
      "metadata": {
        "id": "W5eRVuyXYZEC"
      },
      "source": [
        "**a. Load dataset yang sudah diberikan, dibebaskan menggunakan metode apapun untuk loading dataset. Lalu jadikan dataframe.**"
      ]
    },
    {
      "cell_type": "code",
      "source": [
        "from google.colab import files\n",
        "kontak = files.upload()\n",
        "\n",
        "for fn in kontak.keys():\n",
        "  print(f'Nama file \"{fn}\" dengan panjang {len(kontak[fn])} bytes')"
      ],
      "metadata": {
        "colab": {
          "base_uri": "https://localhost:8080/",
          "height": 90
        },
        "id": "wjijz7oYnzwL",
        "outputId": "edaaa094-a8f0-49dc-e94b-a9e6f48d16ac"
      },
      "execution_count": 2,
      "outputs": [
        {
          "output_type": "display_data",
          "data": {
            "text/plain": [
              "<IPython.core.display.HTML object>"
            ],
            "text/html": [
              "\n",
              "     <input type=\"file\" id=\"files-2e4d6bb9-75fd-4ff3-8bae-47b981cd846f\" name=\"files[]\" multiple disabled\n",
              "        style=\"border:none\" />\n",
              "     <output id=\"result-2e4d6bb9-75fd-4ff3-8bae-47b981cd846f\">\n",
              "      Upload widget is only available when the cell has been executed in the\n",
              "      current browser session. Please rerun this cell to enable.\n",
              "      </output>\n",
              "      <script>// Copyright 2017 Google LLC\n",
              "//\n",
              "// Licensed under the Apache License, Version 2.0 (the \"License\");\n",
              "// you may not use this file except in compliance with the License.\n",
              "// You may obtain a copy of the License at\n",
              "//\n",
              "//      http://www.apache.org/licenses/LICENSE-2.0\n",
              "//\n",
              "// Unless required by applicable law or agreed to in writing, software\n",
              "// distributed under the License is distributed on an \"AS IS\" BASIS,\n",
              "// WITHOUT WARRANTIES OR CONDITIONS OF ANY KIND, either express or implied.\n",
              "// See the License for the specific language governing permissions and\n",
              "// limitations under the License.\n",
              "\n",
              "/**\n",
              " * @fileoverview Helpers for google.colab Python module.\n",
              " */\n",
              "(function(scope) {\n",
              "function span(text, styleAttributes = {}) {\n",
              "  const element = document.createElement('span');\n",
              "  element.textContent = text;\n",
              "  for (const key of Object.keys(styleAttributes)) {\n",
              "    element.style[key] = styleAttributes[key];\n",
              "  }\n",
              "  return element;\n",
              "}\n",
              "\n",
              "// Max number of bytes which will be uploaded at a time.\n",
              "const MAX_PAYLOAD_SIZE = 100 * 1024;\n",
              "\n",
              "function _uploadFiles(inputId, outputId) {\n",
              "  const steps = uploadFilesStep(inputId, outputId);\n",
              "  const outputElement = document.getElementById(outputId);\n",
              "  // Cache steps on the outputElement to make it available for the next call\n",
              "  // to uploadFilesContinue from Python.\n",
              "  outputElement.steps = steps;\n",
              "\n",
              "  return _uploadFilesContinue(outputId);\n",
              "}\n",
              "\n",
              "// This is roughly an async generator (not supported in the browser yet),\n",
              "// where there are multiple asynchronous steps and the Python side is going\n",
              "// to poll for completion of each step.\n",
              "// This uses a Promise to block the python side on completion of each step,\n",
              "// then passes the result of the previous step as the input to the next step.\n",
              "function _uploadFilesContinue(outputId) {\n",
              "  const outputElement = document.getElementById(outputId);\n",
              "  const steps = outputElement.steps;\n",
              "\n",
              "  const next = steps.next(outputElement.lastPromiseValue);\n",
              "  return Promise.resolve(next.value.promise).then((value) => {\n",
              "    // Cache the last promise value to make it available to the next\n",
              "    // step of the generator.\n",
              "    outputElement.lastPromiseValue = value;\n",
              "    return next.value.response;\n",
              "  });\n",
              "}\n",
              "\n",
              "/**\n",
              " * Generator function which is called between each async step of the upload\n",
              " * process.\n",
              " * @param {string} inputId Element ID of the input file picker element.\n",
              " * @param {string} outputId Element ID of the output display.\n",
              " * @return {!Iterable<!Object>} Iterable of next steps.\n",
              " */\n",
              "function* uploadFilesStep(inputId, outputId) {\n",
              "  const inputElement = document.getElementById(inputId);\n",
              "  inputElement.disabled = false;\n",
              "\n",
              "  const outputElement = document.getElementById(outputId);\n",
              "  outputElement.innerHTML = '';\n",
              "\n",
              "  const pickedPromise = new Promise((resolve) => {\n",
              "    inputElement.addEventListener('change', (e) => {\n",
              "      resolve(e.target.files);\n",
              "    });\n",
              "  });\n",
              "\n",
              "  const cancel = document.createElement('button');\n",
              "  inputElement.parentElement.appendChild(cancel);\n",
              "  cancel.textContent = 'Cancel upload';\n",
              "  const cancelPromise = new Promise((resolve) => {\n",
              "    cancel.onclick = () => {\n",
              "      resolve(null);\n",
              "    };\n",
              "  });\n",
              "\n",
              "  // Wait for the user to pick the files.\n",
              "  const files = yield {\n",
              "    promise: Promise.race([pickedPromise, cancelPromise]),\n",
              "    response: {\n",
              "      action: 'starting',\n",
              "    }\n",
              "  };\n",
              "\n",
              "  cancel.remove();\n",
              "\n",
              "  // Disable the input element since further picks are not allowed.\n",
              "  inputElement.disabled = true;\n",
              "\n",
              "  if (!files) {\n",
              "    return {\n",
              "      response: {\n",
              "        action: 'complete',\n",
              "      }\n",
              "    };\n",
              "  }\n",
              "\n",
              "  for (const file of files) {\n",
              "    const li = document.createElement('li');\n",
              "    li.append(span(file.name, {fontWeight: 'bold'}));\n",
              "    li.append(span(\n",
              "        `(${file.type || 'n/a'}) - ${file.size} bytes, ` +\n",
              "        `last modified: ${\n",
              "            file.lastModifiedDate ? file.lastModifiedDate.toLocaleDateString() :\n",
              "                                    'n/a'} - `));\n",
              "    const percent = span('0% done');\n",
              "    li.appendChild(percent);\n",
              "\n",
              "    outputElement.appendChild(li);\n",
              "\n",
              "    const fileDataPromise = new Promise((resolve) => {\n",
              "      const reader = new FileReader();\n",
              "      reader.onload = (e) => {\n",
              "        resolve(e.target.result);\n",
              "      };\n",
              "      reader.readAsArrayBuffer(file);\n",
              "    });\n",
              "    // Wait for the data to be ready.\n",
              "    let fileData = yield {\n",
              "      promise: fileDataPromise,\n",
              "      response: {\n",
              "        action: 'continue',\n",
              "      }\n",
              "    };\n",
              "\n",
              "    // Use a chunked sending to avoid message size limits. See b/62115660.\n",
              "    let position = 0;\n",
              "    do {\n",
              "      const length = Math.min(fileData.byteLength - position, MAX_PAYLOAD_SIZE);\n",
              "      const chunk = new Uint8Array(fileData, position, length);\n",
              "      position += length;\n",
              "\n",
              "      const base64 = btoa(String.fromCharCode.apply(null, chunk));\n",
              "      yield {\n",
              "        response: {\n",
              "          action: 'append',\n",
              "          file: file.name,\n",
              "          data: base64,\n",
              "        },\n",
              "      };\n",
              "\n",
              "      let percentDone = fileData.byteLength === 0 ?\n",
              "          100 :\n",
              "          Math.round((position / fileData.byteLength) * 100);\n",
              "      percent.textContent = `${percentDone}% done`;\n",
              "\n",
              "    } while (position < fileData.byteLength);\n",
              "  }\n",
              "\n",
              "  // All done.\n",
              "  yield {\n",
              "    response: {\n",
              "      action: 'complete',\n",
              "    }\n",
              "  };\n",
              "}\n",
              "\n",
              "scope.google = scope.google || {};\n",
              "scope.google.colab = scope.google.colab || {};\n",
              "scope.google.colab._files = {\n",
              "  _uploadFiles,\n",
              "  _uploadFilesContinue,\n",
              "};\n",
              "})(self);\n",
              "</script> "
            ]
          },
          "metadata": {}
        },
        {
          "output_type": "stream",
          "name": "stdout",
          "text": [
            "Saving spaceship_train.csv to spaceship_train.csv\n",
            "Nama file \"spaceship_train.csv\" dengan panjang 805421 bytes\n"
          ]
        }
      ]
    },
    {
      "cell_type": "markdown",
      "source": [
        "**Tentang Dataset**\n",
        "\n",
        "The dataset is Spaceship Titanic, a dataset for classification/prediction of whether a passenger was rescued (Transported=True) or not (Transported=False). This dataset is inspired by the Titanic concept but set in outer space. It consists of several columns/features:\n",
        "\n",
        "*   PassengerId - A unique Id for each passenger. Each Id takes the form gggg_pp where gggg indicates a group the passenger is travelling with and pp is their number within the group. People in a group are often family members, but not always.\n",
        "*   HomePlanet - The planet the passenger departed from, typically their planet of permanent residence.\n",
        "*   CryoSleep - Indicates whether the passenger elected to be put into suspended animation for the duration of the voyage. Passengers in cryosleep are confined to their cabins.\n",
        "*   Cabin - The cabin number where the passenger is staying. Takes the form deck/num/side, where side can be either P for Port or S for Starboard.\n",
        "*   Destination - The planet the passenger will be debarking to.\n",
        "*   Age - The age of the passenger.\n",
        "*   VIP - Whether the passenger has paid for special VIP service during the voyage.\n",
        "*   RoomService, FoodCourt, ShoppingMall, Spa, VRDeck - Amount the passenger has billed at each of the Spaceship Titanic's many luxury amenities.\n",
        "*   Name - The first and last names of the passenger.\n",
        "*   Transported - Whether the passenger was transported to another dimension. This is the target, the column you are trying to predict."
      ],
      "metadata": {
        "id": "6eN51HUGqcZz"
      }
    },
    {
      "cell_type": "markdown",
      "metadata": {
        "id": "nhQ_LGxOYZED"
      },
      "source": [
        "**b. *Cetak* dataset**"
      ]
    },
    {
      "cell_type": "code",
      "execution_count": 13,
      "metadata": {
        "vscode": {
          "languageId": "plaintext"
        },
        "id": "UuPPWQorYZED"
      },
      "outputs": [],
      "source": [
        "spaceship_df = pd.read_csv('/content/spaceship_train.csv')"
      ]
    },
    {
      "cell_type": "code",
      "source": [
        "print (spaceship_df.head(5))\n",
        "print (spaceship_df.shape)\n",
        "print (spaceship_df.describe())"
      ],
      "metadata": {
        "colab": {
          "base_uri": "https://localhost:8080/"
        },
        "id": "Sv9SqP75pHf8",
        "outputId": "09aa0e64-6978-44cf-e939-46fdfb5b321d"
      },
      "execution_count": 15,
      "outputs": [
        {
          "output_type": "stream",
          "name": "stdout",
          "text": [
            "  PassengerId HomePlanet CryoSleep  Cabin  Destination   Age    VIP  \\\n",
            "0     0001_01     Europa     False  B/0/P  TRAPPIST-1e  39.0  False   \n",
            "1     0002_01      Earth     False  F/0/S  TRAPPIST-1e  24.0  False   \n",
            "2     0003_01     Europa     False  A/0/S  TRAPPIST-1e  58.0   True   \n",
            "3     0003_02     Europa     False  A/0/S  TRAPPIST-1e  33.0  False   \n",
            "4     0004_01      Earth     False  F/1/S  TRAPPIST-1e  16.0  False   \n",
            "\n",
            "   RoomService  FoodCourt  ShoppingMall     Spa  VRDeck               Name  \\\n",
            "0          0.0        0.0           0.0     0.0     0.0    Maham Ofracculy   \n",
            "1        109.0        9.0          25.0   549.0    44.0       Juanna Vines   \n",
            "2         43.0     3576.0           0.0  6715.0    49.0      Altark Susent   \n",
            "3          0.0     1283.0         371.0  3329.0   193.0       Solam Susent   \n",
            "4        303.0       70.0         151.0   565.0     2.0  Willy Santantines   \n",
            "\n",
            "   Transported  \n",
            "0        False  \n",
            "1         True  \n",
            "2        False  \n",
            "3        False  \n",
            "4         True  \n",
            "(8693, 14)\n",
            "               Age   RoomService     FoodCourt  ShoppingMall           Spa  \\\n",
            "count  8514.000000   8512.000000   8510.000000   8485.000000   8510.000000   \n",
            "mean     28.827930    224.687617    458.077203    173.729169    311.138778   \n",
            "std      14.489021    666.717663   1611.489240    604.696458   1136.705535   \n",
            "min       0.000000      0.000000      0.000000      0.000000      0.000000   \n",
            "25%      19.000000      0.000000      0.000000      0.000000      0.000000   \n",
            "50%      27.000000      0.000000      0.000000      0.000000      0.000000   \n",
            "75%      38.000000     47.000000     76.000000     27.000000     59.000000   \n",
            "max      79.000000  14327.000000  29813.000000  23492.000000  22408.000000   \n",
            "\n",
            "             VRDeck  \n",
            "count   8505.000000  \n",
            "mean     304.854791  \n",
            "std     1145.717189  \n",
            "min        0.000000  \n",
            "25%        0.000000  \n",
            "50%        0.000000  \n",
            "75%       46.000000  \n",
            "max    24133.000000  \n"
          ]
        }
      ]
    },
    {
      "cell_type": "markdown",
      "source": [
        "**c. Hapus kolom PassengerId, Cabin, dan Name**"
      ],
      "metadata": {
        "id": "3S_s5OgpeUnj"
      }
    },
    {
      "cell_type": "code",
      "source": [
        "spaceship_df.drop(columns=[\"PassengerId\", \"Cabin\", \"Name\"], inplace=True)"
      ],
      "metadata": {
        "id": "8-pRpmldesdj"
      },
      "execution_count": 17,
      "outputs": []
    },
    {
      "cell_type": "code",
      "source": [
        "print(spaceship_df.head(5))"
      ],
      "metadata": {
        "colab": {
          "base_uri": "https://localhost:8080/"
        },
        "id": "L-A1b9YUptsN",
        "outputId": "34910990-e702-4fc5-e74b-b1be66396d0f"
      },
      "execution_count": 18,
      "outputs": [
        {
          "output_type": "stream",
          "name": "stdout",
          "text": [
            "  HomePlanet CryoSleep  Destination   Age    VIP  RoomService  FoodCourt  \\\n",
            "0     Europa     False  TRAPPIST-1e  39.0  False          0.0        0.0   \n",
            "1      Earth     False  TRAPPIST-1e  24.0  False        109.0        9.0   \n",
            "2     Europa     False  TRAPPIST-1e  58.0   True         43.0     3576.0   \n",
            "3     Europa     False  TRAPPIST-1e  33.0  False          0.0     1283.0   \n",
            "4      Earth     False  TRAPPIST-1e  16.0  False        303.0       70.0   \n",
            "\n",
            "   ShoppingMall     Spa  VRDeck  Transported  \n",
            "0           0.0     0.0     0.0        False  \n",
            "1          25.0   549.0    44.0         True  \n",
            "2           0.0  6715.0    49.0        False  \n",
            "3         371.0  3329.0   193.0        False  \n",
            "4         151.0   565.0     2.0         True  \n"
          ]
        }
      ]
    },
    {
      "cell_type": "markdown",
      "metadata": {
        "id": "EhJJ5xhyYZED"
      },
      "source": [
        "## **3. Cek Representasi Data**"
      ]
    },
    {
      "cell_type": "markdown",
      "metadata": {
        "id": "biukGivQYZED"
      },
      "source": [
        "**a. Cek tipe data**"
      ]
    },
    {
      "cell_type": "code",
      "execution_count": 20,
      "metadata": {
        "vscode": {
          "languageId": "plaintext"
        },
        "id": "bu0-N_XNYZED",
        "colab": {
          "base_uri": "https://localhost:8080/"
        },
        "outputId": "0311bccf-eacf-4db1-ca04-e64eb759fd18"
      },
      "outputs": [
        {
          "output_type": "stream",
          "name": "stdout",
          "text": [
            "<class 'pandas.core.frame.DataFrame'>\n",
            "RangeIndex: 8693 entries, 0 to 8692\n",
            "Data columns (total 11 columns):\n",
            " #   Column        Non-Null Count  Dtype  \n",
            "---  ------        --------------  -----  \n",
            " 0   HomePlanet    8492 non-null   object \n",
            " 1   CryoSleep     8476 non-null   object \n",
            " 2   Destination   8511 non-null   object \n",
            " 3   Age           8514 non-null   float64\n",
            " 4   VIP           8490 non-null   object \n",
            " 5   RoomService   8512 non-null   float64\n",
            " 6   FoodCourt     8510 non-null   float64\n",
            " 7   ShoppingMall  8485 non-null   float64\n",
            " 8   Spa           8510 non-null   float64\n",
            " 9   VRDeck        8505 non-null   float64\n",
            " 10  Transported   8693 non-null   bool   \n",
            "dtypes: bool(1), float64(6), object(4)\n",
            "memory usage: 687.8+ KB\n"
          ]
        }
      ],
      "source": [
        "spaceship_df.info()"
      ]
    },
    {
      "cell_type": "markdown",
      "source": [
        "***Pertanyaan***\n",
        "\n",
        "Berdasarkan hasil di atas, setiap fitur/kolom memiliki tipe data yang berbeda-beda. Fitur dapat dikelompokan menjadi 2 jenis, yaitu fitur numerikal dan kategorikal. Jelaskan secara singkat perbedaan antara kedua jenis fitur !\n",
        "\n",
        "Jawaban:\n",
        "Fitur numerik pasti berisi angka dan dihitung matematis misal rata-rata, median, standar deviasi yang biasanya tipe float64 atau int64 yang dalam dataset ini berupa Age, RoomService, FoodCourt, ShoppingMall, Spa, VRDeck. Sedangkan fitur kategorikal berisi label dengan tipe object atau bool dengan contoh di dataset ini ialah HomePlanet, CryoSleep, Destination, VIP, dan Transported."
      ],
      "metadata": {
        "id": "tICg46umZ-pO"
      }
    },
    {
      "cell_type": "markdown",
      "metadata": {
        "id": "vigQoqigYZEE"
      },
      "source": [
        "**b. Ambil indeks fitur numerik dan kategorikal data**"
      ]
    },
    {
      "cell_type": "code",
      "execution_count": 22,
      "metadata": {
        "vscode": {
          "languageId": "plaintext"
        },
        "id": "Z83d6enkYZEE",
        "colab": {
          "base_uri": "https://localhost:8080/"
        },
        "outputId": "47a62943-b98b-4b1e-dbea-1369ac95cfac"
      },
      "outputs": [
        {
          "output_type": "stream",
          "name": "stdout",
          "text": [
            "Fitur Numerik: Index(['Age', 'RoomService', 'FoodCourt', 'ShoppingMall', 'Spa', 'VRDeck'], dtype='object')\n",
            "Fitur Kategorikal: Index(['HomePlanet', 'CryoSleep', 'Destination', 'VIP'], dtype='object')\n"
          ]
        }
      ],
      "source": [
        "fitur_numerik = spaceship_df.select_dtypes(include=['number']).columns\n",
        "print(\"Fitur Numerik:\", fitur_numerik)\n",
        "fitur_kategorikal = spaceship_df.select_dtypes(include=['object']).columns\n",
        "print(\"Fitur Kategorikal:\", fitur_kategorikal)"
      ]
    },
    {
      "cell_type": "markdown",
      "metadata": {
        "id": "Zc1De-xAYZEE"
      },
      "source": [
        "**c. Transformasi nilai 0 ke NaN untuk data numerik**"
      ]
    },
    {
      "cell_type": "code",
      "execution_count": 25,
      "metadata": {
        "vscode": {
          "languageId": "plaintext"
        },
        "id": "ugisqHNNYZEE"
      },
      "outputs": [],
      "source": [
        "spaceship_df = spaceship_df.replace(0.0, np.NaN)"
      ]
    },
    {
      "cell_type": "markdown",
      "metadata": {
        "id": "G289txTuYZEE"
      },
      "source": [
        "## **4. Missing Value dan Imputasi**"
      ]
    },
    {
      "cell_type": "markdown",
      "metadata": {
        "id": "LNkQnBpgYZEE"
      },
      "source": [
        "**a. Cek Missing Value**"
      ]
    },
    {
      "cell_type": "code",
      "execution_count": 26,
      "metadata": {
        "vscode": {
          "languageId": "plaintext"
        },
        "id": "kJYR72-FYZEE",
        "colab": {
          "base_uri": "https://localhost:8080/"
        },
        "outputId": "8c7b58e3-e72c-4ca8-8968-df0c6dd852d3"
      },
      "outputs": [
        {
          "output_type": "stream",
          "name": "stdout",
          "text": [
            "HomePlanet       201\n",
            "CryoSleep       5656\n",
            "Destination      182\n",
            "Age              357\n",
            "VIP             8494\n",
            "RoomService     5758\n",
            "FoodCourt       5639\n",
            "ShoppingMall    5795\n",
            "Spa             5507\n",
            "VRDeck          5683\n",
            "Transported        0\n",
            "dtype: int64\n"
          ]
        }
      ],
      "source": [
        "print(spaceship_df.isnull().sum())"
      ]
    },
    {
      "cell_type": "markdown",
      "metadata": {
        "id": "2wQ1a_a0YZEE"
      },
      "source": [
        "**b. Imputasi Data**\n",
        "\n",
        "Lakukan imputasi data, dengan ketentuan untuk fitur numerik, data NaN diubah menggunakan fungsi **mean** serta untuk fitur kategorikal, data NaN diubah menggunakan fungsi **modus/mode**"
      ]
    },
    {
      "cell_type": "code",
      "execution_count": 29,
      "metadata": {
        "vscode": {
          "languageId": "plaintext"
        },
        "id": "hxro1c7OYZEE"
      },
      "outputs": [],
      "source": [
        "def imputasi(df_input):\n",
        "    class_column = df_input.columns[-1]\n",
        "    for col in fitur_kategorikal:\n",
        "      df_input[col] = df_input[col].fillna(df_input[col].mode()[0])\n",
        "\n",
        "    for col in fitur_numerik:\n",
        "        df_input[col] = df_input[col].fillna(df_input[col].mean())\n",
        "\n",
        "    return df_input"
      ]
    },
    {
      "cell_type": "code",
      "source": [
        "# Apply imputasi\n",
        "spaceship_df = imputasi(spaceship_df)"
      ],
      "metadata": {
        "colab": {
          "base_uri": "https://localhost:8080/"
        },
        "id": "49-P_U7jth9Q",
        "outputId": "d59cf9a3-7ead-46c7-cf7c-b8320dc0b473"
      },
      "execution_count": 31,
      "outputs": [
        {
          "output_type": "stream",
          "name": "stderr",
          "text": [
            "<ipython-input-29-3729d95a7014>:4: FutureWarning: Downcasting object dtype arrays on .fillna, .ffill, .bfill is deprecated and will change in a future version. Call result.infer_objects(copy=False) instead. To opt-in to the future behavior, set `pd.set_option('future.no_silent_downcasting', True)`\n",
            "  df_input[col] = df_input[col].fillna(df_input[col].mode()[0])\n"
          ]
        }
      ]
    },
    {
      "cell_type": "markdown",
      "metadata": {
        "id": "OYePDrvqYZEE"
      },
      "source": [
        "**c. Cek Missing Value Setelah Imputasi**"
      ]
    },
    {
      "cell_type": "code",
      "execution_count": 32,
      "metadata": {
        "vscode": {
          "languageId": "plaintext"
        },
        "id": "_y2knwgqYZEE",
        "colab": {
          "base_uri": "https://localhost:8080/"
        },
        "outputId": "d283ac38-3f6b-4fc3-b1c8-72f89d5c28c7"
      },
      "outputs": [
        {
          "output_type": "stream",
          "name": "stdout",
          "text": [
            "HomePlanet      0\n",
            "CryoSleep       0\n",
            "Destination     0\n",
            "Age             0\n",
            "VIP             0\n",
            "RoomService     0\n",
            "FoodCourt       0\n",
            "ShoppingMall    0\n",
            "Spa             0\n",
            "VRDeck          0\n",
            "Transported     0\n",
            "dtype: int64\n"
          ]
        }
      ],
      "source": [
        "print(spaceship_df.isnull().sum())"
      ]
    },
    {
      "cell_type": "markdown",
      "metadata": {
        "id": "SptrngbZYZEE"
      },
      "source": [
        "## **5. Penanganan Outlier**\n",
        "\n",
        "**Penanganan outlier hanya dilakukan pada fitur Numerik.**"
      ]
    },
    {
      "cell_type": "markdown",
      "metadata": {
        "id": "YmBnOv_mYZEF"
      },
      "source": [
        "**a. Cek Outlier**\n",
        "\n",
        "Cek outlier dengan visualisasi boxplot."
      ]
    },
    {
      "cell_type": "code",
      "execution_count": 36,
      "metadata": {
        "vscode": {
          "languageId": "plaintext"
        },
        "id": "vpLMq8iOYZEF",
        "colab": {
          "base_uri": "https://localhost:8080/",
          "height": 482
        },
        "outputId": "d7bf4a9d-f684-4bf9-f06e-902114c9a8fa"
      },
      "outputs": [
        {
          "output_type": "display_data",
          "data": {
            "text/plain": [
              "<Figure size 800x500 with 1 Axes>"
            ],
            "image/png": "[encoded data removed]"
          },
          "metadata": {}
        }
      ],
      "source": [
        "# Jika 'data_imputasi' adalah hasil dari fungsi imputasi, pastikan telah didefinisikan\n",
        "data_imputasi = imputasi(spaceship_df)  # Pastikan df sudah ada sebelumnya\n",
        "import seaborn as sns\n",
        "import matplotlib.pyplot as plt\n",
        "numerical_features = data_imputasi.select_dtypes(include=['number'])\n",
        "\n",
        "plt.figure(figsize=(8, 5))  # Sedikit perbesar ukuran\n",
        "sns.boxplot(data=numerical_features)\n",
        "\n",
        "plt.xticks(rotation=45)  # Memiringkan label sumbu x agar lebih terbaca\n",
        "plt.title(\"Boxplot Fitur Numerik\")\n",
        "plt.show()\n"
      ]
    },
    {
      "cell_type": "markdown",
      "metadata": {
        "id": "0HzJnX1QYZEF"
      },
      "source": [
        "**b. Outlier Handling**\n",
        "\n",
        "Lakukan outlier handling dengan cara mengubah nilai outlier menjadi mean fitur/kolom. Suatu data dikatakan outlier jika nilainya berada di luar batas bawah (lower_bound) atau batas atas (upper_bound)."
      ]
    },
    {
      "cell_type": "code",
      "execution_count": 41,
      "metadata": {
        "vscode": {
          "languageId": "plaintext"
        },
        "id": "_sjQm8U7YZEF"
      },
      "outputs": [],
      "source": [
        "def handle_outliers(df):\n",
        "    for column in numerical_features:\n",
        "        Q1 = df[column].quantile(0.25)\n",
        "        Q3 = df[column].quantile(0.75)\n",
        "        IQR = Q3 - Q1\n",
        "        lower_bound = Q1 - 1.5 * IQR   # Batas bawah, gunakan rumus di modul\n",
        "        upper_bound = Q3 + 1.5 * IQR   # Batas atas, gunakan rumus di modul\n",
        "\n",
        "        # Ganti nilai outlier dengan mean dari kolom\n",
        "        mean_value = spaceship_df[column].mean()\n",
        "        spaceship_df[column] = np.where((spaceship_df[column] < lower_bound) | (spaceship_df[column] > upper_bound), mean_value, spaceship_df[column]) # Gunakan properti np.where\n",
        "\n",
        "    return df\n",
        "    spaceship_df = handle_outliers(spaceship_df)"
      ]
    },
    {
      "cell_type": "markdown",
      "source": [],
      "metadata": {
        "id": "GZimzdSPu5LE"
      }
    },
    {
      "cell_type": "markdown",
      "metadata": {
        "id": "V031DFLjYZEF"
      },
      "source": [
        "**c. Cek Hasil penanganan**\n",
        "\n",
        "Cek hasil penanganan outlier dengan membandingkan boxplot data yang telah diatasi dengan boxplot sebelumnya"
      ]
    },
    {
      "cell_type": "code",
      "execution_count": 42,
      "metadata": {
        "vscode": {
          "languageId": "plaintext"
        },
        "id": "vSJ6LI-uYZEF",
        "colab": {
          "base_uri": "https://localhost:8080/",
          "height": 482
        },
        "outputId": "ab410549-0332-4e70-dca5-548dd858bf77"
      },
      "outputs": [
        {
          "output_type": "display_data",
          "data": {
            "text/plain": [
              "<Figure size 800x500 with 1 Axes>"
            ],
            "image/png": "[encoded data removed]"
          },
          "metadata": {}
        }
      ],
      "source": [
        "plt.figure(figsize=(8, 5))\n",
        "sns.boxplot(data=spaceship_df[fitur_numerik])\n",
        "plt.xticks(rotation=45)\n",
        "plt.title(\"Boxplot Sesudah Penanganan Outlier\")\n",
        "plt.show()"
      ]
    },
    {
      "cell_type": "markdown",
      "metadata": {
        "id": "Z-U4FHTyYZEF"
      },
      "source": [
        "## **6. Normalisasi Data**\n",
        "\n",
        "**Lakukan normalisasi data fitur numerik**"
      ]
    },
    {
      "cell_type": "markdown",
      "metadata": {
        "id": "tSH2ktyIYZEF"
      },
      "source": [
        "**a. Cetak rentang masing-masing kolom**"
      ]
    },
    {
      "cell_type": "code",
      "execution_count": 45,
      "metadata": {
        "vscode": {
          "languageId": "plaintext"
        },
        "id": "yd8ptjwdYZEF",
        "colab": {
          "base_uri": "https://localhost:8080/"
        },
        "outputId": "4799e521-e3da-4a69-fdc8-9facbb9a703e"
      },
      "outputs": [
        {
          "output_type": "stream",
          "name": "stdout",
          "text": [
            "      Age  RoomService  FoodCourt  ShoppingMall      Spa   VRDeck\n",
            "min   1.0          1.0        1.0           1.0      1.0      1.0\n",
            "max  79.0      14327.0    29813.0       23492.0  22408.0  24133.0\n"
          ]
        }
      ],
      "source": [
        "def cetak_rentang(spaceship_df_input):\n",
        "    print(spaceship_df_input[fitur_numerik].agg([\"min\", \"max\"]))\n",
        "\n",
        "cetak_rentang(spaceship_df)"
      ]
    },
    {
      "cell_type": "code",
      "source": [
        "# Apply cetak_rentang\n",
        "cetak_rentang(spaceship_df)"
      ],
      "metadata": {
        "id": "7_9LuugomEPz",
        "colab": {
          "base_uri": "https://localhost:8080/"
        },
        "outputId": "cff650be-8c02-410e-838b-f7c91141ed57"
      },
      "execution_count": 46,
      "outputs": [
        {
          "output_type": "stream",
          "name": "stdout",
          "text": [
            "      Age  RoomService  FoodCourt  ShoppingMall      Spa   VRDeck\n",
            "min   1.0          1.0        1.0           1.0      1.0      1.0\n",
            "max  79.0      14327.0    29813.0       23492.0  22408.0  24133.0\n"
          ]
        }
      ]
    },
    {
      "cell_type": "markdown",
      "source": [
        "**b. Cek statistik sebelum normalisasi**"
      ],
      "metadata": {
        "id": "zqhnMPEYmRU5"
      }
    },
    {
      "cell_type": "code",
      "source": [
        "spaceship_df[fitur_numerik].describe()"
      ],
      "metadata": {
        "colab": {
          "base_uri": "https://localhost:8080/",
          "height": 320
        },
        "id": "11ynVT7Pvzou",
        "outputId": "3f08b3d6-4f5d-4eb2-8403-6e8e8d492625"
      },
      "execution_count": 47,
      "outputs": [
        {
          "output_type": "execute_result",
          "data": {
            "text/plain": [
              "               Age   RoomService     FoodCourt  ShoppingMall           Spa  \\\n",
              "count  8693.000000   8693.000000   8693.000000   8693.000000   8693.000000   \n",
              "mean     29.443498    651.632368   1276.436477    508.658385    831.070621   \n",
              "std      13.719561    584.220333   1474.856106    547.819629   1051.908810   \n",
              "min       1.000000      1.000000      1.000000      1.000000      1.000000   \n",
              "25%      20.000000    651.632368    967.000000    508.658385    639.000000   \n",
              "50%      28.000000    651.632368   1276.436477    508.658385    831.070621   \n",
              "75%      37.000000    651.632368   1276.436477    508.658385    831.070621   \n",
              "max      79.000000  14327.000000  29813.000000  23492.000000  22408.000000   \n",
              "\n",
              "             VRDeck  \n",
              "count   8693.000000  \n",
              "mean     861.392027  \n",
              "std     1057.479629  \n",
              "min        1.000000  \n",
              "25%      747.000000  \n",
              "50%      861.392027  \n",
              "75%      861.392027  \n",
              "max    24133.000000  "
            ],
            "text/html": [
              "\n",
              "  <div id=\"df-0016bde3-7b0e-4336-9e0d-c2b339901c94\" class=\"colab-df-container\">\n",
              "    <div>\n",
              "<style scoped>\n",
              "    .dataframe tbody tr th:only-of-type {\n",
              "        vertical-align: middle;\n",
              "    }\n",
              "\n",
              "    .dataframe tbody tr th {\n",
              "        vertical-align: top;\n",
              "    }\n",
              "\n",
              "    .dataframe thead th {\n",
              "        text-align: right;\n",
              "    }\n",
              "</style>\n",
              "<table border=\"1\" class=\"dataframe\">\n",
              "  <thead>\n",
              "    <tr style=\"text-align: right;\">\n",
              "      <th></th>\n",
              "      <th>Age</th>\n",
              "      <th>RoomService</th>\n",
              "      <th>FoodCourt</th>\n",
              "      <th>ShoppingMall</th>\n",
              "      <th>Spa</th>\n",
              "      <th>VRDeck</th>\n",
              "    </tr>\n",
              "  </thead>\n",
              "  <tbody>\n",
              "    <tr>\n",
              "      <th>count</th>\n",
              "      <td>8693.000000</td>\n",
              "      <td>8693.000000</td>\n",
              "      <td>8693.000000</td>\n",
              "      <td>8693.000000</td>\n",
              "      <td>8693.000000</td>\n",
              "      <td>8693.000000</td>\n",
              "    </tr>\n",
              "    <tr>\n",
              "      <th>mean</th>\n",
              "      <td>29.443498</td>\n",
              "      <td>651.632368</td>\n",
              "      <td>1276.436477</td>\n",
              "      <td>508.658385</td>\n",
              "      <td>831.070621</td>\n",
              "      <td>861.392027</td>\n",
              "    </tr>\n",
              "    <tr>\n",
              "      <th>std</th>\n",
              "      <td>13.719561</td>\n",
              "      <td>584.220333</td>\n",
              "      <td>1474.856106</td>\n",
              "      <td>547.819629</td>\n",
              "      <td>1051.908810</td>\n",
              "      <td>1057.479629</td>\n",
              "    </tr>\n",
              "    <tr>\n",
              "      <th>min</th>\n",
              "      <td>1.000000</td>\n",
              "      <td>1.000000</td>\n",
              "      <td>1.000000</td>\n",
              "      <td>1.000000</td>\n",
              "      <td>1.000000</td>\n",
              "      <td>1.000000</td>\n",
              "    </tr>\n",
              "    <tr>\n",
              "      <th>25%</th>\n",
              "      <td>20.000000</td>\n",
              "      <td>651.632368</td>\n",
              "      <td>967.000000</td>\n",
              "      <td>508.658385</td>\n",
              "      <td>639.000000</td>\n",
              "      <td>747.000000</td>\n",
              "    </tr>\n",
              "    <tr>\n",
              "      <th>50%</th>\n",
              "      <td>28.000000</td>\n",
              "      <td>651.632368</td>\n",
              "      <td>1276.436477</td>\n",
              "      <td>508.658385</td>\n",
              "      <td>831.070621</td>\n",
              "      <td>861.392027</td>\n",
              "    </tr>\n",
              "    <tr>\n",
              "      <th>75%</th>\n",
              "      <td>37.000000</td>\n",
              "      <td>651.632368</td>\n",
              "      <td>1276.436477</td>\n",
              "      <td>508.658385</td>\n",
              "      <td>831.070621</td>\n",
              "      <td>861.392027</td>\n",
              "    </tr>\n",
              "    <tr>\n",
              "      <th>max</th>\n",
              "      <td>79.000000</td>\n",
              "      <td>14327.000000</td>\n",
              "      <td>29813.000000</td>\n",
              "      <td>23492.000000</td>\n",
              "      <td>22408.000000</td>\n",
              "      <td>24133.000000</td>\n",
              "    </tr>\n",
              "  </tbody>\n",
              "</table>\n",
              "</div>\n",
              "    <div class=\"colab-df-buttons\">\n",
              "\n",
              "  <div class=\"colab-df-container\">\n",
              "    <button class=\"colab-df-convert\" onclick=\"convertToInteractive('df-0016bde3-7b0e-4336-9e0d-c2b339901c94')\"\n",
              "            title=\"Convert this dataframe to an interactive table.\"\n",
              "            style=\"display:none;\">\n",
              "\n",
              "  <svg xmlns=\"http://www.w3.org/2000/svg\" height=\"24px\" viewBox=\"0 -960 960 960\">\n",
              "    <path d=\"M120-120v-720h720v720H120Zm60-500h600v-160H180v160Zm220 220h160v-160H400v160Zm0 220h160v-160H400v160ZM180-400h160v-160H180v160Zm440 0h160v-160H620v160ZM180-180h160v-160H180v160Zm440 0h160v-160H620v160Z\"/>\n",
              "  </svg>\n",
              "    </button>\n",
              "\n",
              "  <style>\n",
              "    .colab-df-container {\n",
              "      display:flex;\n",
              "      gap: 12px;\n",
              "    }\n",
              "\n",
              "    .colab-df-convert {\n",
              "      background-color: #E8F0FE;\n",
              "      border: none;\n",
              "      border-radius: 50%;\n",
              "      cursor: pointer;\n",
              "      display: none;\n",
              "      fill: #1967D2;\n",
              "      height: 32px;\n",
              "      padding: 0 0 0 0;\n",
              "      width: 32px;\n",
              "    }\n",
              "\n",
              "    .colab-df-convert:hover {\n",
              "      background-color: #E2EBFA;\n",
              "      box-shadow: 0px 1px 2px rgba(60, 64, 67, 0.3), 0px 1px 3px 1px rgba(60, 64, 67, 0.15);\n",
              "      fill: #174EA6;\n",
              "    }\n",
              "\n",
              "    .colab-df-buttons div {\n",
              "      margin-bottom: 4px;\n",
              "    }\n",
              "\n",
              "    [theme=dark] .colab-df-convert {\n",
              "      background-color: #3B4455;\n",
              "      fill: #D2E3FC;\n",
              "    }\n",
              "\n",
              "    [theme=dark] .colab-df-convert:hover {\n",
              "      background-color: #434B5C;\n",
              "      box-shadow: 0px 1px 3px 1px rgba(0, 0, 0, 0.15);\n",
              "      filter: drop-shadow(0px 1px 2px rgba(0, 0, 0, 0.3));\n",
              "      fill: #FFFFFF;\n",
              "    }\n",
              "  </style>\n",
              "\n",
              "    <script>\n",
              "      const buttonEl =\n",
              "        document.querySelector('#df-0016bde3-7b0e-4336-9e0d-c2b339901c94 button.colab-df-convert');\n",
              "      buttonEl.style.display =\n",
              "        google.colab.kernel.accessAllowed ? 'block' : 'none';\n",
              "\n",
              "      async function convertToInteractive(key) {\n",
              "        const element = document.querySelector('#df-0016bde3-7b0e-4336-9e0d-c2b339901c94');\n",
              "        const dataTable =\n",
              "          await google.colab.kernel.invokeFunction('convertToInteractive',\n",
              "                                                    [key], {});\n",
              "        if (!dataTable) return;\n",
              "\n",
              "        const docLinkHtml = 'Like what you see? Visit the ' +\n",
              "          '<a target=\"_blank\" href=https://colab.research.google.com/notebooks/data_table.ipynb>data table notebook</a>'\n",
              "          + ' to learn more about interactive tables.';\n",
              "        element.innerHTML = '';\n",
              "        dataTable['output_type'] = 'display_data';\n",
              "        await google.colab.output.renderOutput(dataTable, element);\n",
              "        const docLink = document.createElement('div');\n",
              "        docLink.innerHTML = docLinkHtml;\n",
              "        element.appendChild(docLink);\n",
              "      }\n",
              "    </script>\n",
              "  </div>\n",
              "\n",
              "\n",
              "<div id=\"df-da453140-266a-446d-a282-36b71909d74a\">\n",
              "  <button class=\"colab-df-quickchart\" onclick=\"quickchart('df-da453140-266a-446d-a282-36b71909d74a')\"\n",
              "            title=\"Suggest charts\"\n",
              "            style=\"display:none;\">\n",
              "\n",
              "<svg xmlns=\"http://www.w3.org/2000/svg\" height=\"24px\"viewBox=\"0 0 24 24\"\n",
              "     width=\"24px\">\n",
              "    <g>\n",
              "        <path d=\"M19 3H5c-1.1 0-2 .9-2 2v14c0 1.1.9 2 2 2h14c1.1 0 2-.9 2-2V5c0-1.1-.9-2-2-2zM9 17H7v-7h2v7zm4 0h-2V7h2v10zm4 0h-2v-4h2v4z\"/>\n",
              "    </g>\n",
              "</svg>\n",
              "  </button>\n",
              "\n",
              "<style>\n",
              "  .colab-df-quickchart {\n",
              "      --bg-color: #E8F0FE;\n",
              "      --fill-color: #1967D2;\n",
              "      --hover-bg-color: #E2EBFA;\n",
              "      --hover-fill-color: #174EA6;\n",
              "      --disabled-fill-color: #AAA;\n",
              "      --disabled-bg-color: #DDD;\n",
              "  }\n",
              "\n",
              "  [theme=dark] .colab-df-quickchart {\n",
              "      --bg-color: #3B4455;\n",
              "      --fill-color: #D2E3FC;\n",
              "      --hover-bg-color: #434B5C;\n",
              "      --hover-fill-color: #FFFFFF;\n",
              "      --disabled-bg-color: #3B4455;\n",
              "      --disabled-fill-color: #666;\n",
              "  }\n",
              "\n",
              "  .colab-df-quickchart {\n",
              "    background-color: var(--bg-color);\n",
              "    border: none;\n",
              "    border-radius: 50%;\n",
              "    cursor: pointer;\n",
              "    display: none;\n",
              "    fill: var(--fill-color);\n",
              "    height: 32px;\n",
              "    padding: 0;\n",
              "    width: 32px;\n",
              "  }\n",
              "\n",
              "  .colab-df-quickchart:hover {\n",
              "    background-color: var(--hover-bg-color);\n",
              "    box-shadow: 0 1px 2px rgba(60, 64, 67, 0.3), 0 1px 3px 1px rgba(60, 64, 67, 0.15);\n",
              "    fill: var(--button-hover-fill-color);\n",
              "  }\n",
              "\n",
              "  .colab-df-quickchart-complete:disabled,\n",
              "  .colab-df-quickchart-complete:disabled:hover {\n",
              "    background-color: var(--disabled-bg-color);\n",
              "    fill: var(--disabled-fill-color);\n",
              "    box-shadow: none;\n",
              "  }\n",
              "\n",
              "  .colab-df-spinner {\n",
              "    border: 2px solid var(--fill-color);\n",
              "    border-color: transparent;\n",
              "    border-bottom-color: var(--fill-color);\n",
              "    animation:\n",
              "      spin 1s steps(1) infinite;\n",
              "  }\n",
              "\n",
              "  @keyframes spin {\n",
              "    0% {\n",
              "      border-color: transparent;\n",
              "      border-bottom-color: var(--fill-color);\n",
              "      border-left-color: var(--fill-color);\n",
              "    }\n",
              "    20% {\n",
              "      border-color: transparent;\n",
              "      border-left-color: var(--fill-color);\n",
              "      border-top-color: var(--fill-color);\n",
              "    }\n",
              "    30% {\n",
              "      border-color: transparent;\n",
              "      border-left-color: var(--fill-color);\n",
              "      border-top-color: var(--fill-color);\n",
              "      border-right-color: var(--fill-color);\n",
              "    }\n",
              "    40% {\n",
              "      border-color: transparent;\n",
              "      border-right-color: var(--fill-color);\n",
              "      border-top-color: var(--fill-color);\n",
              "    }\n",
              "    60% {\n",
              "      border-color: transparent;\n",
              "      border-right-color: var(--fill-color);\n",
              "    }\n",
              "    80% {\n",
              "      border-color: transparent;\n",
              "      border-right-color: var(--fill-color);\n",
              "      border-bottom-color: var(--fill-color);\n",
              "    }\n",
              "    90% {\n",
              "      border-color: transparent;\n",
              "      border-bottom-color: var(--fill-color);\n",
              "    }\n",
              "  }\n",
              "</style>\n",
              "\n",
              "  <script>\n",
              "    async function quickchart(key) {\n",
              "      const quickchartButtonEl =\n",
              "        document.querySelector('#' + key + ' button');\n",
              "      quickchartButtonEl.disabled = true;  // To prevent multiple clicks.\n",
              "      quickchartButtonEl.classList.add('colab-df-spinner');\n",
              "      try {\n",
              "        const charts = await google.colab.kernel.invokeFunction(\n",
              "            'suggestCharts', [key], {});\n",
              "      } catch (error) {\n",
              "        console.error('Error during call to suggestCharts:', error);\n",
              "      }\n",
              "      quickchartButtonEl.classList.remove('colab-df-spinner');\n",
              "      quickchartButtonEl.classList.add('colab-df-quickchart-complete');\n",
              "    }\n",
              "    (() => {\n",
              "      let quickchartButtonEl =\n",
              "        document.querySelector('#df-da453140-266a-446d-a282-36b71909d74a button');\n",
              "      quickchartButtonEl.style.display =\n",
              "        google.colab.kernel.accessAllowed ? 'block' : 'none';\n",
              "    })();\n",
              "  </script>\n",
              "</div>\n",
              "\n",
              "    </div>\n",
              "  </div>\n"
            ],
            "application/vnd.google.colaboratory.intrinsic+json": {
              "type": "dataframe",
              "summary": "{\n  \"name\": \"spaceship_df[fitur_numerik]\",\n  \"rows\": 8,\n  \"fields\": [\n    {\n      \"column\": \"Age\",\n      \"properties\": {\n        \"dtype\": \"number\",\n        \"std\": 3063.0111508388763,\n        \"min\": 1.0,\n        \"max\": 8693.0,\n        \"num_unique_values\": 8,\n        \"samples\": [\n          29.4434980806142,\n          28.0,\n          8693.0\n        ],\n        \"semantic_type\": \"\",\n        \"description\": \"\"\n      }\n    },\n    {\n      \"column\": \"RoomService\",\n      \"properties\": {\n        \"dtype\": \"number\",\n        \"std\": 5304.836242098949,\n        \"min\": 1.0,\n        \"max\": 14327.0,\n        \"num_unique_values\": 6,\n        \"samples\": [\n          8693.0,\n          651.6323679727428,\n          14327.0\n        ],\n        \"semantic_type\": \"\",\n        \"description\": \"\"\n      }\n    },\n    {\n      \"column\": \"FoodCourt\",\n      \"properties\": {\n        \"dtype\": \"number\",\n        \"std\": 10154.13965667635,\n        \"min\": 1.0,\n        \"max\": 29813.0,\n        \"num_unique_values\": 7,\n        \"samples\": [\n          8693.0,\n          1276.4364767518014,\n          1276.436476751801\n        ],\n        \"semantic_type\": \"\",\n        \"description\": \"\"\n      }\n    },\n    {\n      \"column\": \"ShoppingMall\",\n      \"properties\": {\n        \"dtype\": \"number\",\n        \"std\": 8260.678688697333,\n        \"min\": 1.0,\n        \"max\": 23492.0,\n        \"num_unique_values\": 6,\n        \"samples\": [\n          8693.0,\n          508.65838509316757,\n          23492.0\n        ],\n        \"semantic_type\": \"\",\n        \"description\": \"\"\n      }\n    },\n    {\n      \"column\": \"Spa\",\n      \"properties\": {\n        \"dtype\": \"number\",\n        \"std\": 7797.754193608424,\n        \"min\": 1.0,\n        \"max\": 22408.0,\n        \"num_unique_values\": 7,\n        \"samples\": [\n          8693.0,\n          831.0706214689268,\n          831.0706214689266\n        ],\n        \"semantic_type\": \"\",\n        \"description\": \"\"\n      }\n    },\n    {\n      \"column\": \"VRDeck\",\n      \"properties\": {\n        \"dtype\": \"number\",\n        \"std\": 8355.892455573923,\n        \"min\": 1.0,\n        \"max\": 24133.0,\n        \"num_unique_values\": 6,\n        \"samples\": [\n          8693.0,\n          861.3920265780731,\n          24133.0\n        ],\n        \"semantic_type\": \"\",\n        \"description\": \"\"\n      }\n    }\n  ]\n}"
            }
          },
          "metadata": {},
          "execution_count": 47
        }
      ]
    },
    {
      "cell_type": "markdown",
      "metadata": {
        "id": "HBGZ4eYlYZEF"
      },
      "source": [
        "**c. Normalisasi MinMax**\n",
        "\n",
        "Buat fungsi normalisasi dengan metode minmax"
      ]
    },
    {
      "cell_type": "code",
      "execution_count": 49,
      "metadata": {
        "vscode": {
          "languageId": "plaintext"
        },
        "id": "GMOIpVlvYZEF"
      },
      "outputs": [],
      "source": [
        "def minmax(spaceship_df_input):\n",
        "    # Pilih hanya kolom numerik untuk normalisasi\n",
        "    list_fitur = spaceship_df_input.select_dtypes(include=['number']).columns\n",
        "\n",
        "    for fitur in list_fitur:\n",
        "        max_val = spaceship_df_input[fitur].max()\n",
        "        min_val = spaceship_df_input[fitur].min()\n",
        "        spaceship_df_input[fitur] = (spaceship_df_input[fitur] - min_val) / (max_val - min_val)\n",
        "\n",
        "    return spaceship_df_input"
      ]
    },
    {
      "cell_type": "code",
      "execution_count": 50,
      "metadata": {
        "vscode": {
          "languageId": "plaintext"
        },
        "id": "SmWLAIvZYZEF"
      },
      "outputs": [],
      "source": [
        "# Apply fungsi normalisasi\n",
        "data_normal = minmax(spaceship_df)"
      ]
    },
    {
      "cell_type": "markdown",
      "metadata": {
        "id": "mzkAVZMVYZEJ"
      },
      "source": [
        "***Pertanyaan***\n",
        "\n",
        "Cetak rentang dan statistik kolom setelah normalisasi, lalu bandingkan dengan saat sebelum dilakukan normalisasi. Apa perbedaannya dan jelaskan secara singkat!"
      ]
    },
    {
      "cell_type": "code",
      "execution_count": 52,
      "metadata": {
        "vscode": {
          "languageId": "plaintext"
        },
        "id": "omJClT10YZEJ",
        "colab": {
          "base_uri": "https://localhost:8080/"
        },
        "outputId": "2e8ca647-b9f3-4166-fbdb-53d0ae6bc4d5"
      },
      "outputs": [
        {
          "output_type": "stream",
          "name": "stdout",
          "text": [
            "Statistik sebelum normalisasi:\n",
            "               Age  RoomService    FoodCourt  ShoppingMall          Spa  \\\n",
            "count  8693.000000  8693.000000  8693.000000   8693.000000  8693.000000   \n",
            "mean      0.364660     0.045416     0.042783      0.021611     0.037045   \n",
            "std       0.175892     0.040780     0.049472      0.023320     0.046946   \n",
            "min       0.000000     0.000000     0.000000      0.000000     0.000000   \n",
            "25%       0.243590     0.045416     0.032403      0.021611     0.028473   \n",
            "50%       0.346154     0.045416     0.042783      0.021611     0.037045   \n",
            "75%       0.461538     0.045416     0.042783      0.021611     0.037045   \n",
            "max       1.000000     1.000000     1.000000      1.000000     1.000000   \n",
            "\n",
            "            VRDeck  \n",
            "count  8693.000000  \n",
            "mean      0.035654  \n",
            "std       0.043821  \n",
            "min       0.000000  \n",
            "25%       0.030913  \n",
            "50%       0.035654  \n",
            "75%       0.035654  \n",
            "max       1.000000  \n",
            "\n",
            "Statistik setelah normalisasi:\n",
            "               Age  RoomService    FoodCourt  ShoppingMall          Spa  \\\n",
            "count  8693.000000  8693.000000  8693.000000   8693.000000  8693.000000   \n",
            "mean      0.364660     0.045416     0.042783      0.021611     0.037045   \n",
            "std       0.175892     0.040780     0.049472      0.023320     0.046946   \n",
            "min       0.000000     0.000000     0.000000      0.000000     0.000000   \n",
            "25%       0.243590     0.045416     0.032403      0.021611     0.028473   \n",
            "50%       0.346154     0.045416     0.042783      0.021611     0.037045   \n",
            "75%       0.461538     0.045416     0.042783      0.021611     0.037045   \n",
            "max       1.000000     1.000000     1.000000      1.000000     1.000000   \n",
            "\n",
            "            VRDeck  \n",
            "count  8693.000000  \n",
            "mean      0.035654  \n",
            "std       0.043821  \n",
            "min       0.000000  \n",
            "25%       0.030913  \n",
            "50%       0.035654  \n",
            "75%       0.035654  \n",
            "max       1.000000  \n",
            "\n",
            "Rentang setiap kolom numerik setelah normalisasi:\n",
            "     Age  RoomService  FoodCourt  ShoppingMall  Spa  VRDeck\n",
            "min  0.0          0.0        0.0           0.0  0.0     0.0\n",
            "max  1.0          1.0        1.0           1.0  1.0     1.0\n"
          ]
        },
        {
          "output_type": "stream",
          "name": "stderr",
          "text": [
            "<ipython-input-52-5fe0425f2fb1>:8: FutureWarning: The provided callable <built-in function min> is currently using Series.min. In a future version of pandas, the provided callable will be used directly. To keep current behavior pass the string \"min\" instead.\n",
            "  print(data_normal.select_dtypes(include=['number']).agg([min, max]))\n",
            "<ipython-input-52-5fe0425f2fb1>:8: FutureWarning: The provided callable <built-in function max> is currently using Series.max. In a future version of pandas, the provided callable will be used directly. To keep current behavior pass the string \"max\" instead.\n",
            "  print(data_normal.select_dtypes(include=['number']).agg([min, max]))\n"
          ]
        }
      ],
      "source": [
        "print(\"Statistik sebelum normalisasi:\")\n",
        "print(spaceship_df.describe())\n",
        "\n",
        "print(\"\\nStatistik setelah normalisasi:\")\n",
        "print(data_normal.describe())\n",
        "\n",
        "print(\"\\nRentang setiap kolom numerik setelah normalisasi:\")\n",
        "print(data_normal.select_dtypes(include=['number']).agg([min, max]))"
      ]
    },
    {
      "cell_type": "markdown",
      "source": [
        "Jawaban: Setelah dilakukan normalisasi dengan metode Min-Max Scaling, semua fitur numerik pada dataset kini memiliki rentang 0 hingga 1. Sebelum normalisasi, setiap fitur memiliki skala yang berbeda-beda. Misalnya, kolom Age mungkin memiliki rentang nilai 0-80, sementara kolom RoomService bisa mencapai ribuan. Perbedaan skala ini dapat menyebabkan algoritma machine learning yang sensitif terhadap skala, seperti KNN dan SVM, menjadi kurang optimal dalam melakukan prediksi.\n",
        "\n",
        "Dengan normalisasi Min-Max, nilai terkecil dari setiap fitur diubah menjadi 0, sedangkan nilai terbesar menjadi 1, tanpa mengubah pola distribusi datanya. Hal ini membuat semua fitur berada dalam skala yang sama, sehingga model machine learning dapat belajar secara lebih seimbang dan tidak bias terhadap fitur yang memiliki skala lebih besar. Secara keseluruhan, normalisasi ini membantu meningkatkan kinerja model dalam melakukan analisis dan prediksi pada dataset Spaceship Titanic."
      ],
      "metadata": {
        "id": "hH_bkO6smw3c"
      }
    },
    {
      "cell_type": "markdown",
      "metadata": {
        "id": "_KgCSj0EYZEJ"
      },
      "source": [
        "## **7. Label Encoding**\n",
        "\n"
      ]
    },
    {
      "cell_type": "markdown",
      "source": [],
      "metadata": {
        "id": "hkYMA0nxs_2P"
      }
    },
    {
      "cell_type": "markdown",
      "source": [
        "**a. Lakukan label encoding untuk fitur/kolom kategorikal!**"
      ],
      "metadata": {
        "id": "MdceaXZXsQga"
      }
    },
    {
      "cell_type": "code",
      "execution_count": 53,
      "metadata": {
        "vscode": {
          "languageId": "plaintext"
        },
        "id": "Q3sZtvKDYZEJ"
      },
      "outputs": [],
      "source": [
        "def label_encoding(x):\n",
        "  if 'Earth' in x:\n",
        "    return 0\n",
        "  elif 'Mars' in x:\n",
        "    return 1\n",
        "  elif 'Europa' in x:\n",
        "    return 2\n",
        "  else:\n",
        "    return -1\n",
        "\n",
        "  data_normal['HomePlanet'] = data_normal['HomePlanet'].apply(lambda x: label_encoding(x))"
      ]
    },
    {
      "cell_type": "markdown",
      "source": [
        "**b. Ubah kolom target, yang awalnya boolean menjadi integer**"
      ],
      "metadata": {
        "id": "FJOkpdTJsRXN"
      }
    },
    {
      "cell_type": "code",
      "source": [
        "def boolean_to_integer(x):\n",
        "    if x == True:\n",
        "        return 1\n",
        "    elif x == False:\n",
        "        return 0\n",
        "    else:\n",
        "        return -1\n",
        "\n",
        "data_normal['Transported'] = data_normal['Transported'].apply(lambda x: boolean_to_integer(x))"
      ],
      "metadata": {
        "id": "pBakyYuYs5Es"
      },
      "execution_count": 54,
      "outputs": []
    },
    {
      "cell_type": "markdown",
      "source": [
        "***Pertanyaan***\n",
        "\n",
        "Mengapa label encoding penting?\n",
        "\n",
        "Jawaban: Label encoding sendiri merupakan teknik yang digunakan untuk mengubah data kategorikal menjadi bentuk numerik, sehingga dapat diproses oleh algoritma machine learning. Pada kode di atas, label encoding diterapkan pada kolom HomePlanet, di mana setiap nilai kategori (seperti Earth, Mars, Europa) dikonversi menjadi angka 0, 1, atau 2. Jika ada nilai yang tidak sesuai dengan kategori tersebut, maka akan diberikan nilai -1 sebagai penanda data yang tidak dikenal.\n",
        "\n",
        "Selain itu, kolom Transported, yang awalnya berupa nilai boolean (True/False), dikonversi menjadi integer (1 untuk True dan 0 untuk False). Hal ini penting karena banyak algoritma machine learning tidak dapat bekerja langsung dengan tipe data boolean atau string, sehingga perlu dikonversi ke format numerik."
      ],
      "metadata": {
        "id": "7LTc_82As5Zz"
      }
    },
    {
      "cell_type": "markdown",
      "metadata": {
        "id": "vqeQMI6lYZEJ"
      },
      "source": [
        "## **8. Cek Hasil Preprocessing**\n",
        "\n",
        "Cetak dataframe hasil preprocessing"
      ]
    },
    {
      "cell_type": "code",
      "execution_count": 59,
      "metadata": {
        "vscode": {
          "languageId": "plaintext"
        },
        "id": "esTQcWNJYZEJ",
        "colab": {
          "base_uri": "https://localhost:8080/"
        },
        "outputId": "c31152cb-5f5d-415e-8826-5fc3488cc6df"
      },
      "outputs": [
        {
          "output_type": "stream",
          "name": "stdout",
          "text": [
            "5 Data Pertama:\n",
            "  HomePlanet  CryoSleep  Destination       Age   VIP  RoomService  FoodCourt  \\\n",
            "0     Europa       True  TRAPPIST-1e  0.487179  True     0.045416   0.042783   \n",
            "1      Earth       True  TRAPPIST-1e  0.294872  True     0.007539   0.000268   \n",
            "2     Europa       True  TRAPPIST-1e  0.730769  True     0.002932   0.119918   \n",
            "3     Europa       True  TRAPPIST-1e  0.410256  True     0.045416   0.043003   \n",
            "4      Earth       True  TRAPPIST-1e  0.192308  True     0.021081   0.002315   \n",
            "\n",
            "   ShoppingMall       Spa    VRDeck  Transported  \n",
            "0      0.021611  0.037045  0.035654            0  \n",
            "1      0.001022  0.024457  0.001782            1  \n",
            "2      0.021611  0.299639  0.001989            0  \n",
            "3      0.015751  0.148525  0.007956            0  \n",
            "4      0.006385  0.025171  0.000041            1  \n"
          ]
        }
      ],
      "source": [
        "print(\"5 Data Pertama:\")\n",
        "print(spaceship_df.head(5))"
      ]
    },
    {
      "cell_type": "markdown",
      "source": [
        "***Pertanyaan***\n",
        "\n",
        "Menurutmu, hal apa lagi yang bisa dilakukan dalam pemrosesan awal data selain yang di atas, jika melihat karakteristik dataset?\n",
        "\n",
        "Jawaban: Sebelum melakukan analisis atau membangun model machine learning, langkah awal yang penting dilakukan adalah pemrosesan awal data (data preprocessing). Salah satu tantangan utama dalam dataset adalah adanya missing values atau data yang hilang. Untuk mengatasinya, saya menghapus baris atau kolom yang memiliki terlalu banyak data hilang atau melakukan imputasi dengan menggantinya menggunakan nilai mean, median, atau modus tergantung pada jenis datanya. Jika fitur bersifat kategorikal, saya mengisi nilai yang hilang dengan kategori khusus seperti 'Unknown' agar tetap dapat digunakan dalam analisis.\n",
        "\n",
        "Selain itu, jika dataset mengandung fitur kategorikal, maka perlu dilakukan transformasi ke bentuk numerik agar bisa diproses oleh model machine learning. Salah satu metode yang umum digunakan adalah One-Hot Encoding (OHE) untuk kategori yang tidak memiliki urutan tertentu, seperti jenis spesies. Sedangkan jika fitur bersifat ordinal (misalnya tingkat pendidikan: rendah, sedang, tinggi), maka lebih cocok menggunakan Label Encoding untuk mengonversinya menjadi angka yang merepresentasikan urutan.\n",
        "\n",
        "Selanjutnya, untuk mendeteksi dan menangani outlier karena keberadaannya dapat mempengaruhi performa model, terutama pada algoritma berbasis regresi atau berbasis jarak seperti KNN. Salah satu cara mendeteksi outlier adalah dengan metode Interquartile Range (IQR) atau menggunakan Z-Score. Jika ditemukan outlier, menanganinya dengan menghapusnya, menggantinya dengan batas tertentu, atau menerapkan transformasi seperti logaritmik untuk mengurangi dampaknya.\n",
        "\n",
        "Selain itu, perlu dilakukan feature scaling (skalasi fitur) agar nilai dari berbagai fitur berada dalam skala yang seragam. Metode Min-Max Scaling sering digunakan untuk model berbasis jarak seperti KNN dan K-Means, di mana data disesuaikan ke rentang 0 hingga 1. Sementara itu, Standarisasi (Z-Score Normalization) lebih cocok jika data berdistribusi normal karena akan mengubah data agar memiliki rata-rata 0 dan standar deviasi 1.\n"
      ],
      "metadata": {
        "id": "IQUcmrK1pbcg"
      }
    }
  ],
  "metadata": {
    "language_info": {
      "name": "python"
    },
    "colab": {
      "provenance": [],
      "include_colab_link": true
    },
    "kernelspec": {
      "name": "python3",
      "display_name": "Python 3"
    }
  },
  "nbformat": 4,
  "nbformat_minor": 0
}